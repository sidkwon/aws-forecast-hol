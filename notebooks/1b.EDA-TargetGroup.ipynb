{
 "cells": [
  {
   "cell_type": "markdown",
   "metadata": {},
   "source": [
    "# 1b.EDA-TargetGroup\n",
    "dept_id = `FOODS_3`를 조금 더 EDA 해 본다."
   ]
  },
  {
   "cell_type": "code",
   "execution_count": null,
   "metadata": {},
   "outputs": [],
   "source": [
    "# Import required library\n",
    "import numpy as np\n",
    "import pandas as pd\n",
    "import matplotlib.pyplot as plt\n",
    "from datetime import datetime\n",
    "import warnings\n",
    "\n",
    "warnings.simplefilter(\"ignore\", DeprecationWarning)\n",
    "warnings.simplefilter(\"ignore\", FutureWarning, )\n",
    "\n",
    "%matplotlib inline"
   ]
  },
  {
   "cell_type": "code",
   "execution_count": null,
   "metadata": {},
   "outputs": [],
   "source": [
    "# Create Dataframes\n",
    "df_sales = pd.read_csv(\"./data/sales_train_validation.csv\")\n",
    "df_prices = pd.read_csv(\"./data/sell_prices.csv\")\n",
    "df_calendar = pd.read_csv(\"./data/calendar.csv\")"
   ]
  },
  {
   "cell_type": "markdown",
   "metadata": {},
   "source": [
    "# Target Group : dept_id = FOODS_3"
   ]
  },
  {
   "cell_type": "markdown",
   "metadata": {},
   "source": [
    "### dept_id = FOODS_3 만 추출"
   ]
  },
  {
   "cell_type": "code",
   "execution_count": null,
   "metadata": {},
   "outputs": [],
   "source": [
    "df_sales_foods_3 = df_sales[df_sales[\"dept_id\"] == \"FOODS_3\"]\n",
    "df_sales_foods_3.head()"
   ]
  },
  {
   "cell_type": "markdown",
   "metadata": {},
   "source": [
    "### Dataframe을 Merge한다.\n",
    "- Jupyter notebook의 Memory가 충분하지 않다면 Out of Memory가 발생한다"
   ]
  },
  {
   "cell_type": "code",
   "execution_count": null,
   "metadata": {},
   "outputs": [],
   "source": [
    "df_sales_foods_3.head()"
   ]
  },
  {
   "cell_type": "code",
   "execution_count": null,
   "metadata": {},
   "outputs": [],
   "source": [
    "# pandas.melt를 사용하여 df_sales을 merge한다.\n",
    "# df_sales의 d_1 ~ d_1914 컬럼을 \"sales\" 컬럼의 Row들로 변환한다.\n",
    "df_sales_melt = pd.melt(df_sales_foods_3, \\\n",
    "                        id_vars=['id', 'item_id', 'dept_id', 'cat_id', 'store_id', 'state_id'],\n",
    "                        var_name='day', value_name='sales')"
   ]
  },
  {
   "cell_type": "code",
   "execution_count": null,
   "metadata": {},
   "outputs": [],
   "source": [
    "# df_sales_melt와 df_calendar Merge\n",
    "df_merged = pd.merge(df_sales_melt, df_calendar, \\\n",
    "                     left_on=\"day\", \\\n",
    "                     right_on=\"d\", \\\n",
    "                     how=\"left\")"
   ]
  },
  {
   "cell_type": "code",
   "execution_count": null,
   "metadata": {},
   "outputs": [],
   "source": [
    "# df_merged와 df_prices Merge\n",
    "df_merged = pd.merge(df_merged, df_prices, \\\n",
    "                     left_on=[\"store_id\", \"item_id\", \"wm_yr_wk\"], \\\n",
    "                     right_on=[\"store_id\", \"item_id\", \"wm_yr_wk\"], \\\n",
    "                     how=\"left\")"
   ]
  },
  {
   "cell_type": "code",
   "execution_count": null,
   "metadata": {},
   "outputs": [],
   "source": [
    "# \"date\" column을 index로 지정\n",
    "# 3분 정도 소요 (ml.m5.2xlarge 기준)\n",
    "df_merged.date = df_merged.date.apply(lambda x: datetime.strptime(x, \"%Y-%m-%d\"))\n",
    "df_merged.set_index(\"date\", inplace=True)"
   ]
  },
  {
   "cell_type": "code",
   "execution_count": null,
   "metadata": {},
   "outputs": [],
   "source": [
    "df_merged.head()"
   ]
  },
  {
   "cell_type": "markdown",
   "metadata": {},
   "source": [
    "# EDA for dept_id = FOODS_3"
   ]
  },
  {
   "cell_type": "markdown",
   "metadata": {},
   "source": [
    "### # of Unique items in FOODS_3"
   ]
  },
  {
   "cell_type": "code",
   "execution_count": null,
   "metadata": {},
   "outputs": [],
   "source": [
    "# Unique items : 8,230\n",
    "len(df_merged[\"id\"].unique())"
   ]
  },
  {
   "cell_type": "markdown",
   "metadata": {},
   "source": [
    "### Daily 판매량 평균의 분포"
   ]
  },
  {
   "cell_type": "code",
   "execution_count": null,
   "metadata": {},
   "outputs": [],
   "source": [
    "sales_avg = pd.pivot_table(df_merged, index=\"id\", values=[\"sales\"]).plot(kind=\"hist\", figsize=(12,8), grid=True)"
   ]
  },
  {
   "cell_type": "markdown",
   "metadata": {},
   "source": [
    "- Observations\n",
    " - 2011-01-29 ~ 2016-06-19 Daily 판매량 평균이 10개 미만인 아이템이 거의 대부분이다."
   ]
  },
  {
   "cell_type": "markdown",
   "metadata": {},
   "source": [
    "### 전체 기간 (2011-01-29 ~ 2016-06-19) 판매량 전체 평균의 분포"
   ]
  },
  {
   "cell_type": "code",
   "execution_count": null,
   "metadata": {},
   "outputs": [],
   "source": [
    "sales_total = pd.pivot_table(df_merged, index=\"id\", values=[\"sales\"], aggfunc=[np.sum]).plot(kind=\"hist\", figsize=(12,8), grid=True)"
   ]
  },
  {
   "cell_type": "markdown",
   "metadata": {},
   "source": [
    "- Observations\n",
    " - Daily 판매량 평균의 분포와 비슷하다."
   ]
  },
  {
   "cell_type": "markdown",
   "metadata": {},
   "source": [
    "### Correlation 분석"
   ]
  },
  {
   "cell_type": "code",
   "execution_count": null,
   "metadata": {},
   "outputs": [],
   "source": [
    "import seaborn as sn\n",
    "\n",
    "corrMatt = df_merged[[\"sales\", \"sell_price\", \"snap_CA\", \"snap_TX\", \"snap_WI\"]].corr()\n",
    "fig,ax= plt.subplots()\n",
    "fig.set_size_inches(10,10)\n",
    "sn.heatmap(corrMatt, square=True, annot=True, cmap=\"RdYlBu_r\", vmin = -1, vmax = 1)"
   ]
  },
  {
   "cell_type": "markdown",
   "metadata": {},
   "source": [
    "- Observations\n",
    " - \"sales\"와 강한 상관관계(일반적으로 0.7)가 있는 Time Series는 없다"
   ]
  },
  {
   "cell_type": "markdown",
   "metadata": {},
   "source": [
    "### Seasonality"
   ]
  },
  {
   "cell_type": "code",
   "execution_count": null,
   "metadata": {},
   "outputs": [],
   "source": [
    "fig = plt.figure(figsize=(20, 8))\n",
    "\n",
    "ax1 = fig.add_subplot(221)\n",
    "ax2 = fig.add_subplot(222)\n",
    "ax3 = fig.add_subplot(223)\n",
    "ax4 = fig.add_subplot(224)\n",
    "\n",
    "ax1.title.set_text('Yearly Trend')\n",
    "ax1.plot(df_merged[\"sales\"].resample(\"1Y\").sum())\n",
    "ax1.grid()\n",
    "\n",
    "ax2.title.set_text('Quarterly Trend')\n",
    "ax2.plot(df_merged[\"sales\"].resample(\"1Q\").sum())\n",
    "ax2.grid()\n",
    "\n",
    "ax3.title.set_text('Monthly Trend')\n",
    "ax3.plot(df_merged[\"sales\"].resample(\"1M\").sum())\n",
    "ax3.grid()\n",
    "\n",
    "ax4.title.set_text('Weekly Trend')\n",
    "ax4.plot(df_merged[\"sales\"].resample(\"1W\").sum())\n",
    "ax4.grid()"
   ]
  },
  {
   "cell_type": "markdown",
   "metadata": {},
   "source": [
    "- Observations\n",
    "    - 2012년, 2016년 데이터가 불완전 하므로 Yearly Trend는 판별학기 어렵다.\n",
    "    - Quarterly, Monthly Trend는 식별 된다."
   ]
  },
  {
   "cell_type": "markdown",
   "metadata": {},
   "source": [
    "### 2015년 이후 데이터만 Visualization"
   ]
  },
  {
   "cell_type": "code",
   "execution_count": null,
   "metadata": {},
   "outputs": [],
   "source": [
    "df_merged_2015 = df_merged.loc[\"2015-01-01\":\"2015-12-31\"]"
   ]
  },
  {
   "cell_type": "code",
   "execution_count": null,
   "metadata": {},
   "outputs": [],
   "source": [
    "df_merged_2015.head()"
   ]
  },
  {
   "cell_type": "code",
   "execution_count": null,
   "metadata": {},
   "outputs": [],
   "source": [
    "fig = plt.figure(figsize=(20, 8))\n",
    "\n",
    "ax1 = fig.add_subplot(221)\n",
    "ax2 = fig.add_subplot(222)\n",
    "ax3 = fig.add_subplot(223)\n",
    "ax4 = fig.add_subplot(224)\n",
    "\n",
    "ax1.title.set_text('Yearly Trend')\n",
    "ax1.plot(df_merged_2015[\"sales\"].resample(\"1Y\").sum())\n",
    "ax1.grid()\n",
    "\n",
    "ax2.title.set_text('Quarterly Trend')\n",
    "ax2.plot(df_merged_2015[\"sales\"].resample(\"1Q\").sum())\n",
    "ax2.grid()\n",
    "\n",
    "ax3.title.set_text('Monthly Trend')\n",
    "ax3.plot(df_merged_2015[\"sales\"].resample(\"1M\").sum())\n",
    "ax3.grid()\n",
    "\n",
    "ax4.title.set_text('Weekly Trend')\n",
    "ax4.plot(df_merged_2015[\"sales\"].resample(\"1W\").sum())\n",
    "ax4.grid()"
   ]
  },
  {
   "cell_type": "markdown",
   "metadata": {},
   "source": [
    "- Observatations\n",
    "    - Weekly Seaonality가 가장 뚜렷하다.\n",
    "    - Sales는 2015년 8월에 가장 높고 12월에 가장 낮다."
   ]
  },
  {
   "cell_type": "markdown",
   "metadata": {},
   "source": [
    "### 요일 별 sales"
   ]
  },
  {
   "cell_type": "code",
   "execution_count": null,
   "metadata": {},
   "outputs": [],
   "source": [
    "df_saleas_by_weekday = pd.DataFrame(df_merged.groupby(\"weekday\").sum().sales.reset_index())\n",
    "cats = ['Monday', 'Tuesday', 'Wednesday', 'Thursday', 'Friday', 'Saturday', 'Sunday']\n",
    "df_saleas_by_weekday[\"weekday\"] = pd.Categorical(df_saleas_by_weekday[\"weekday\"], categories=cats, ordered=True)\n",
    "df_saleas_by_weekday = df_saleas_by_weekday.sort_values(\"weekday\")\n",
    "\n",
    "\n",
    "fig = plt.figure(figsize=(10, 6))\n",
    "\n",
    "plt.title(\"Sales by Weekdays\")\n",
    "plt.bar(cats, df_saleas_by_weekday.sales)"
   ]
  },
  {
   "cell_type": "markdown",
   "metadata": {},
   "source": [
    "- Observations\n",
    "    - 주말 sales가 평일보다 많다.\n",
    "    - 평일 중 월요일, 금요일 sales가 가장 크다"
   ]
  },
  {
   "cell_type": "markdown",
   "metadata": {},
   "source": [
    "### Daily Sales 분포 확인 - Box Plot\n",
    "- Count of Daily Sales (df_merged[\"sales\"] : 15743990\n",
    "- Mean of Daily Sales (df_merged[\"sales\"] : 2.0561545072119585\n",
    "- Min of Daily Sales (df_merged[\"sales\"] : 0\n",
    "- Max of Daily Sales (df_merged[\"sales\"] : 763\n",
    "- Std of Daily Sales (df_merged[\"sales\"] : 6.320518901897881"
   ]
  },
  {
   "cell_type": "code",
   "execution_count": null,
   "metadata": {},
   "outputs": [],
   "source": [
    "df_merged.head()"
   ]
  },
  {
   "cell_type": "code",
   "execution_count": null,
   "metadata": {},
   "outputs": [],
   "source": [
    "df_merged.boxplot(column=[\"sales\"], by=[\"month\"], sym=\"bo\", figsize=(20,10))\n",
    "plt.show()"
   ]
  },
  {
   "cell_type": "markdown",
   "metadata": {},
   "source": [
    "- Observations\n",
    "    - 3Q(Quantile)을 벗어나는 Outliner가 많다."
   ]
  },
  {
   "cell_type": "markdown",
   "metadata": {},
   "source": [
    "### Event가 Sales에 미치는 영향"
   ]
  },
  {
   "cell_type": "code",
   "execution_count": null,
   "metadata": {},
   "outputs": [],
   "source": [
    "# 1일 평균 sales 수량\n",
    "avg_sales_all = df_merged[\"sales\"].sum() / len(df_merged)\n",
    "\n",
    "# Event시 평균 sales 수량\n",
    "df_merged_wo_nan = df_merged.dropna(subset=[\"event_name_1\"])\n",
    "avg_sales_event = df_merged_wo_nan[\"sales\"].sum() / len(df_merged_wo_nan)\n",
    "print(\"Everage Daily Sales : {}, Everage Daily Sales on Event : {}\".format(avg_sales_all, avg_sales_event))"
   ]
  },
  {
   "cell_type": "markdown",
   "metadata": {},
   "source": [
    "- Observations\n",
    "    - event 했을 때 평균 Sales 수량은 event를 하지 않았을 때 보다 오히려 낮다 -> Event가 Sales에 영향을 주지 않았다라고 볼 수 있다."
   ]
  },
  {
   "cell_type": "code",
   "execution_count": null,
   "metadata": {},
   "outputs": [],
   "source": [
    "# event_name_1에서 Unique value 추출\n",
    "events = df_merged[\"event_name_1\"].dropna().unique()\n",
    "\n",
    "df_sales_by_event = pd.DataFrame(columns=[\"event_name\", \"sales\"])\n",
    "for event in events:\n",
    "    sales_by_event = df_merged_wo_nan[df_merged_wo_nan[\"event_name_1\"] == event][\"sales\"].sum()\n",
    "    df_sales_by_event = df_sales_by_event.append(pd.DataFrame([[event, sales_by_event]], columns=[\"event_name\", \"sales\"]))\n",
    "df_sales_by_event = df_sales_by_event.sort_values(by=\"sales\")\n",
    "\n",
    "idx = df_sales_by_event.event_name\n",
    "plt.figure(figsize=(20, 15))\n",
    "plt.barh(idx, df_sales_by_event[\"sales\"])\n",
    "plt.title(\"Sales by each Event\", fontsize=18)"
   ]
  },
  {
   "cell_type": "markdown",
   "metadata": {},
   "source": [
    "- Observations\n",
    "    - SuperBowl event때 가장 많은 sales가 크다.\n",
    "    - NBAFinalsStart + NBAFinalsEnd는 단일 event가 아닌 event series이므로 합산할 경우 SuperBowl sales보다 크다.\n",
    "    - Christmas의 sales는 \"72\", 거의 없다.\n",
    "    - SuperBowl, LaborDay, Purim End, Easter, NBAFinalsStart+NBAFinalsEnd의 total sales가 100,000 이상이다."
   ]
  },
  {
   "cell_type": "code",
   "execution_count": null,
   "metadata": {},
   "outputs": [],
   "source": [
    "df_sales_by_event.sort_values(by=\"sales\", ascending=False)"
   ]
  },
  {
   "cell_type": "markdown",
   "metadata": {},
   "source": [
    "### SuperBowl, LaborDay, Purim End, Easter, NBAFinalsStart, NBAFinalsEnd 날짜"
   ]
  },
  {
   "cell_type": "code",
   "execution_count": null,
   "metadata": {},
   "outputs": [],
   "source": [
    "events = [\"SuperBowl\", \"LaborDay\", \"Purim End\", \"Easter\", \"NBAFinalsStart\", \"NBAFinalsEnd\"]\n",
    "df_merged[df_merged[\"event_name_1\"].isin(events)][[\"event_name_1\", \"wm_yr_wk\"]]\\\n",
    "    .drop_duplicates()\\\n",
    "    .sort_values(by=[\"event_name_1\", \"wm_yr_wk\"])"
   ]
  },
  {
   "cell_type": "markdown",
   "metadata": {},
   "source": [
    "- Observations\n",
    "    - SuperBowl은 매년 2월 초에 한다."
   ]
  },
  {
   "cell_type": "markdown",
   "metadata": {},
   "source": [
    "### Plots"
   ]
  },
  {
   "cell_type": "code",
   "execution_count": null,
   "metadata": {},
   "outputs": [],
   "source": [
    "# Daily sales가 가장 많은 item Top10 list, 가장 적은 item Worst10 list 선택\n",
    "df_merged_best10  = df_merged.groupby(\"id\").sum().sort_values(by=\"sales\", ascending=False).reset_index().head(10)\n",
    "df_merged_worst10 = df_merged.groupby(\"id\").sum().sort_values(by=\"sales\", ascending=False).reset_index().tail(10)"
   ]
  },
  {
   "cell_type": "code",
   "execution_count": null,
   "metadata": {},
   "outputs": [],
   "source": [
    "# 전체 Plot\n",
    "for item_id in df_merged_best10[\"id\"]:\n",
    "    df_merged[df_merged[\"id\"] == item_id].loc[:][\"sales\"].plot(figsize=(15,5), grid=True)"
   ]
  },
  {
   "cell_type": "markdown",
   "metadata": {},
   "source": [
    "- Observations\n",
    "    - 2013년까지는 연말에 Spiky했으나 2014년 이후에는 연말에 Spiky패턴이 보이지 않는다.\n",
    "    - Daily판매량(\"sales\")는 Linear하게 증가하지 않는다."
   ]
  },
  {
   "cell_type": "code",
   "execution_count": null,
   "metadata": {},
   "outputs": [],
   "source": [
    "# 2011년 Plot\n",
    "for item_id in df_merged_best10[\"id\"]:\n",
    "    df_merged[df_merged[\"id\"] == item_id].loc[\"2011-01-01\":\"2011-12-31\"][\"sales\"].plot(figsize=(15,5), grid=True)"
   ]
  },
  {
   "cell_type": "code",
   "execution_count": null,
   "metadata": {},
   "outputs": [],
   "source": [
    "# 2012년 Plot\n",
    "for item_id in df_merged_best10[\"id\"]:\n",
    "    df_merged[df_merged[\"id\"] == item_id].loc[\"2012-01-01\":\"2012-12-31\"][\"sales\"].plot(figsize=(15,5), grid=True)"
   ]
  },
  {
   "cell_type": "code",
   "execution_count": null,
   "metadata": {},
   "outputs": [],
   "source": [
    "# 2013년 Plot\n",
    "for item_id in df_merged_best10[\"id\"]:\n",
    "    df_merged[df_merged[\"id\"] == item_id].loc[\"2013-01-01\":\"2013-12-31\"][\"sales\"].plot(figsize=(15,5), grid=True)"
   ]
  },
  {
   "cell_type": "code",
   "execution_count": null,
   "metadata": {},
   "outputs": [],
   "source": [
    "# 2014년 Plot\n",
    "for item_id in df_merged_best10[\"id\"]:\n",
    "    df_merged[df_merged[\"id\"] == item_id].loc[\"2014-01-01\":\"2014-12-31\"][\"sales\"].plot(figsize=(15,5), grid=True)"
   ]
  },
  {
   "cell_type": "code",
   "execution_count": null,
   "metadata": {},
   "outputs": [],
   "source": [
    "# 2015년 Plot\n",
    "for item_id in df_merged_best10[\"id\"]:\n",
    "    df_merged[df_merged[\"id\"] == item_id].loc[\"2015-01-01\":\"2015-12-31\"][\"sales\"].plot(figsize=(15,5), grid=True)"
   ]
  },
  {
   "cell_type": "code",
   "execution_count": null,
   "metadata": {},
   "outputs": [],
   "source": [
    "# 2016년 이후 Plot\n",
    "for item_id in df_merged_best10[\"id\"]:\n",
    "    df_merged[df_merged[\"id\"] == item_id].loc[\"2016-01-01\":][\"sales\"].plot(figsize=(15,5), grid=True)"
   ]
  },
  {
   "cell_type": "markdown",
   "metadata": {},
   "source": [
    "### Best10의 Seasonality"
   ]
  },
  {
   "cell_type": "code",
   "execution_count": null,
   "metadata": {},
   "outputs": [],
   "source": [
    "fig = plt.figure(figsize=(30, 8))\n",
    "\n",
    "ax1 = fig.add_subplot(221)\n",
    "ax2 = fig.add_subplot(222)\n",
    "ax3 = fig.add_subplot(223)\n",
    "ax4 = fig.add_subplot(224)\n",
    "\n",
    "for item_id in df_merged_best10[\"id\"]:\n",
    "    ax1.title.set_text('Yearly Trend')\n",
    "    ax1.plot(df_merged[df_merged[\"id\"] == item_id][\"sales\"].resample(\"1Y\").sum())\n",
    "    ax1.grid()\n",
    "\n",
    "    ax2.title.set_text('Quarterly Trend')\n",
    "    ax2.plot(df_merged[df_merged[\"id\"] == item_id][\"sales\"].resample(\"1Q\").sum())\n",
    "    ax2.grid()\n",
    "\n",
    "    ax3.title.set_text('Monthly Trend')\n",
    "    ax3.plot(df_merged[df_merged[\"id\"] == item_id][\"sales\"].resample(\"1M\").sum())\n",
    "    ax3.grid()\n",
    "\n",
    "    ax4.title.set_text('Weekly Trend')\n",
    "    ax4.plot(df_merged[df_merged[\"id\"] == item_id][\"sales\"].resample(\"1W\").sum())\n",
    "    ax4.grid()"
   ]
  },
  {
   "cell_type": "markdown",
   "metadata": {},
   "source": [
    "- Observations\n",
    " - Best10의 sales volume은 감소 trend."
   ]
  },
  {
   "cell_type": "code",
   "execution_count": null,
   "metadata": {},
   "outputs": [],
   "source": [
    "# 2013년 Plot\n",
    "for item_id in df_merged_best10[\"id\"]:\n",
    "    df_merged[df_merged[\"id\"] == item_id].loc[\"2015-11-01\":\"2016-01-31\"][\"sales\"].plot(figsize=(20,5), grid=True, label=item_id)"
   ]
  },
  {
   "cell_type": "markdown",
   "metadata": {},
   "source": [
    "- Observations\n",
    "    - 2013년에 Sales볼륨이 굉장히 컸다.\n",
    "    - 2013-08-15 ~ 2013-09-15 사이 Sales가 증가 했다."
   ]
  },
  {
   "cell_type": "code",
   "execution_count": null,
   "metadata": {},
   "outputs": [],
   "source": [
    "# SuperBowl (2012-02-05)의 sales plot\n",
    "for item_id in df_merged_best10[\"id\"]:\n",
    "    df_merged[df_merged[\"id\"] == item_id].loc[\"2012-01-01\":\"2012-02-28\"][\"sales\"].plot(figsize=(20,5), grid=True, label=item_id)"
   ]
  },
  {
   "cell_type": "code",
   "execution_count": null,
   "metadata": {},
   "outputs": [],
   "source": []
  },
  {
   "cell_type": "code",
   "execution_count": null,
   "metadata": {},
   "outputs": [],
   "source": [
    "# NBA Final(2013-06-06 ~ 2013-06-20)의 sales plot\n",
    "for item_id in df_merged_best10[\"id\"]:\n",
    "    df_merged[df_merged[\"id\"] == item_id].loc[\"2013-05-01\":\"2013-07-31\"][\"sales\"].plot(figsize=(20,5), grid=True, label=item_id)"
   ]
  },
  {
   "cell_type": "code",
   "execution_count": null,
   "metadata": {},
   "outputs": [],
   "source": [
    "# Black Friday(매년 11월 말) ~ 다음 해 1월까지 sales plot, 2012년\n",
    "for item_id in df_merged_best10[\"id\"]:\n",
    "    df_merged[df_merged[\"id\"] == item_id].loc[\"2012-11-01\":\"2013-01-31\"][\"sales\"].plot(figsize=(20,5), grid=True, label=item_id)"
   ]
  },
  {
   "cell_type": "code",
   "execution_count": null,
   "metadata": {},
   "outputs": [],
   "source": [
    "# Black Friday(매년 11월 말) ~ 다음 해 1월까지 sales plot, 2013년\n",
    "for item_id in df_merged_best10[\"id\"]:\n",
    "    df_merged[df_merged[\"id\"] == item_id].loc[\"2013-11-01\":\"2014-01-31\"][\"sales\"].plot(figsize=(20,5), grid=True, label=item_id)"
   ]
  },
  {
   "cell_type": "code",
   "execution_count": null,
   "metadata": {},
   "outputs": [],
   "source": [
    "# Black Friday(매년 11월 말) ~ 다음 해 1월까지 sales plot, 2014년\n",
    "for item_id in df_merged_best10[\"id\"]:\n",
    "    df_merged[df_merged[\"id\"] == item_id].loc[\"2014-11-01\":\"2015-01-31\"][\"sales\"].plot(figsize=(20,5), grid=True, label=item_id)"
   ]
  },
  {
   "cell_type": "code",
   "execution_count": null,
   "metadata": {},
   "outputs": [],
   "source": [
    "# Black Friday(매년 11월 말) ~ 다음 해 1월까지 sales plot, 2015년\n",
    "for item_id in df_merged_best10[\"id\"]:\n",
    "    df_merged[df_merged[\"id\"] == item_id].loc[\"2015-11-01\":\"2016-01-31\"][\"sales\"].plot(figsize=(20,5), grid=True, label=item_id)"
   ]
  },
  {
   "cell_type": "markdown",
   "metadata": {},
   "source": [
    "- Observations\n",
    "    - Black Friday기간에 Sales는 상승하는 것 처럼 보인다.\n",
    "    - Christmas기간에 Sales는 0에 가깝다.\n",
    "    - 2013년, 2014년 1월 1일은 Sales가 0에 가깝지만 2015, 2016년 1월 1일은 다른 Trend"
   ]
  },
  {
   "cell_type": "markdown",
   "metadata": {},
   "source": [
    "### Worst10 분석"
   ]
  },
  {
   "cell_type": "code",
   "execution_count": null,
   "metadata": {},
   "outputs": [],
   "source": [
    "df_merged_worst10"
   ]
  },
  {
   "cell_type": "code",
   "execution_count": null,
   "metadata": {},
   "outputs": [],
   "source": [
    "# Plot\n",
    "for item_id in df_merged_worst10[\"id\"]:\n",
    "    df_merged[df_merged[\"id\"] == item_id][\"sales\"].plot(figsize=(15,5), grid=True)"
   ]
  },
  {
   "cell_type": "markdown",
   "metadata": {},
   "source": [
    "- Observations\n",
    "    - 거의 팔리지 않는다"
   ]
  },
  {
   "cell_type": "code",
   "execution_count": null,
   "metadata": {},
   "outputs": [],
   "source": [
    "%store df_merged\n",
    "%store df_sales_foods_3"
   ]
  },
  {
   "cell_type": "code",
   "execution_count": null,
   "metadata": {},
   "outputs": [],
   "source": []
  },
  {
   "cell_type": "code",
   "execution_count": null,
   "metadata": {},
   "outputs": [],
   "source": []
  }
 ],
 "metadata": {
  "kernelspec": {
   "display_name": "conda_tensorflow_p36",
   "language": "python",
   "name": "conda_tensorflow_p36"
  },
  "language_info": {
   "codemirror_mode": {
    "name": "ipython",
    "version": 3
   },
   "file_extension": ".py",
   "mimetype": "text/x-python",
   "name": "python",
   "nbconvert_exporter": "python",
   "pygments_lexer": "ipython3",
   "version": "3.6.10"
  }
 },
 "nbformat": 4,
 "nbformat_minor": 4
}
