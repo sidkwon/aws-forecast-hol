{
 "cells": [
  {
   "cell_type": "markdown",
   "metadata": {},
   "source": [
    "# 월마트 리테일 상품 판매량 예측 (Estimate the unit sales of Walmart retail goods)"
   ]
  },
  {
   "cell_type": "markdown",
   "metadata": {},
   "source": [
    "<img src=\"../img/kaggle-m5-overview.png\"/>"
   ]
  },
  {
   "cell_type": "markdown",
   "metadata": {},
   "source": [
    "# 1a.EDA-Introduction"
   ]
  },
  {
   "cell_type": "markdown",
   "metadata": {},
   "source": [
    "- Estimate the unit sales of Walmart retail goods\n",
    "- From 2011-01-29 to 2016-06-19"
   ]
  },
  {
   "cell_type": "markdown",
   "metadata": {},
   "source": [
    "# Dataset\n",
    "- calendar.csv - 제품들이 팔린 날짜들 (df_calendar)\n",
    "- sales_train_validation.csv - 제품과 매장에 따른 과거 일일 판매 데이터 [d_1 - d_1913] (df_sales)\n",
    "- sell_prices.csv - 매장 및 날짜별로 판매되는 제품의 가격에 대한 정보 (df_prices)\n",
    "- sales_train_evaluation.csv - Available once month before competition deadline. Will include sales [d_1 - d_1941]\n",
    "- sample_submission.csv - The correct format for submissions. Reference the Evaluation tab for more info. (df_sub)"
   ]
  },
  {
   "cell_type": "markdown",
   "metadata": {},
   "source": [
    "<img src=\"../img/data-overview-01.png\" align=\"left\">\n",
    "<img src=\"../img/data-overview-02.png\" align=\"left\">"
   ]
  },
  {
   "cell_type": "markdown",
   "metadata": {},
   "source": [
    "## Import Dataset\n",
    "### 필요한 Library Import"
   ]
  },
  {
   "cell_type": "code",
   "execution_count": null,
   "metadata": {},
   "outputs": [],
   "source": [
    "import numpy as np\n",
    "import pandas as pd\n",
    "import matplotlib.pyplot as plt\n",
    "import seaborn as sns\n",
    "import plotly.express as px\n",
    "import os\n",
    "from itertools import cycle\n",
    "import warnings\n",
    "\n",
    "%matplotlib inline\n",
    "\n",
    "warnings.simplefilter(\"ignore\", DeprecationWarning)\n",
    "warnings.simplefilter(\"ignore\", FutureWarning, )"
   ]
  },
  {
   "cell_type": "markdown",
   "metadata": {},
   "source": [
    "### Download datasets"
   ]
  },
  {
   "cell_type": "code",
   "execution_count": null,
   "metadata": {},
   "outputs": [],
   "source": [
    "!mkdir data\n",
    "!wget -O ./data/kaggle-m5.zip https://sagemaker-sinjoonk.s3.amazonaws.com/kaggle/kaggle-m5.zip\n",
    "!unzip ./data/kaggle-m5.zip"
   ]
  },
  {
   "cell_type": "code",
   "execution_count": null,
   "metadata": {},
   "outputs": [],
   "source": [
    "# Create Dataframes\n",
    "df_sales = pd.read_csv(\"./data/sales_train_validation.csv\")\n",
    "df_prices = pd.read_csv(\"./data/sell_prices.csv\")\n",
    "df_calendar = pd.read_csv(\"./data/calendar.csv\")"
   ]
  },
  {
   "cell_type": "markdown",
   "metadata": {},
   "source": [
    "# sales_train_validation(df_sales)"
   ]
  },
  {
   "cell_type": "markdown",
   "metadata": {},
   "source": [
    "Contains the historical daily unit sales data per product and store [d_1 - d_1913].\n",
    "\n",
    "- item_id: The id of the product.\n",
    "- dept_id: The id of the department the product belongs to.\n",
    "- cat_id: The id of the category the product belongs to.\n",
    "- store_id: The id of the store where the product is sold.\n",
    "- state_id: The State where the store is located.\n",
    "- d_1, d_2, ..., d_i, ... d_1941: The number of units sold at day i, starting from 2011-01-29."
   ]
  },
  {
   "cell_type": "code",
   "execution_count": null,
   "metadata": {},
   "outputs": [],
   "source": [
    "df_sales.head()"
   ]
  },
  {
   "cell_type": "code",
   "execution_count": null,
   "metadata": {},
   "outputs": [],
   "source": [
    "df_sales.info()"
   ]
  },
  {
   "cell_type": "code",
   "execution_count": null,
   "metadata": {},
   "outputs": [],
   "source": [
    "# \"state_id\", \"store_id\", \"cat_id\", \"dept_id\" 별 Id 집계\n",
    "\n",
    "titles = [\"state_id\", \"store_id\", \"cat_id\", \"dept_id\"]\n",
    "for title in titles:\n",
    "    df_sales.groupby(title)[\"id\"].count().reset_index().plot.bar(x=title, figsize=(8,5))"
   ]
  },
  {
   "cell_type": "markdown",
   "metadata": {},
   "source": [
    "- Observation\n",
    "    - 각 Store 가 파는 item 갯수는 동일하다.\n",
    "    - `FOODS` category 가 가장 많이 팔린다.\n",
    "    - `FOODS` category 에서는 그 중 `FOODS_3`dept_id가 가장 많이 팔린다."
   ]
  },
  {
   "cell_type": "code",
   "execution_count": null,
   "metadata": {},
   "outputs": [],
   "source": [
    "# NaN 확인\n",
    "df_sales.isnull().values.any()"
   ]
  },
  {
   "cell_type": "markdown",
   "metadata": {},
   "source": [
    "### 판매량 확인 (\"state_id\", \"store_id\", \"cat_id\", \"dept_id\")"
   ]
  },
  {
   "cell_type": "code",
   "execution_count": null,
   "metadata": {},
   "outputs": [],
   "source": [
    "# d_로 시작하는 column 추출\n",
    "d_cols = [c for c in df_sales.columns if 'd_' in c]\n",
    "\n",
    "# d_로 시작하는 column의 value(판매량)들을 더해 \"sales_total\" column에 추가\n",
    "df_sales[\"sales_total\"] = df_sales.loc[:,d_cols].sum(axis=1)"
   ]
  },
  {
   "cell_type": "code",
   "execution_count": null,
   "metadata": {},
   "outputs": [],
   "source": [
    "titles = [\"state_id\", \"store_id\", \"cat_id\", \"dept_id\"]\n",
    "for title in titles:\n",
    "    df_sales.groupby(title)[\"sales_total\"].sum().reset_index().plot.bar(x=title, figsize=(8,5))"
   ]
  },
  {
   "cell_type": "markdown",
   "metadata": {},
   "source": [
    "- Observations\n",
    "    - CA (California)의 sales_total이 가장 크다.\n",
    "    - FOODS category sales_total이 가장 크다.\n",
    "    - FOODS category 중에서는 dept_id FOODS_3의 sales_total이 가장 크다."
   ]
  },
  {
   "cell_type": "markdown",
   "metadata": {},
   "source": [
    "# Calendar (df_calendar)\n",
    "Contains the dates on which products are sold. The dates are in a yyyy/dd/mm format.\n",
    "\n",
    "- date: The date in a “y-m-d” format.\n",
    "- wm_yr_wk: The id of the week the date belongs to.\n",
    "- weekday: The type of the day (Saturday, Sunday, ..., Friday).\n",
    "- wday: The id of the weekday, starting from Saturday.\n",
    "- month: The month of the date.\n",
    "- year: The year of the date.\n",
    "- d : Sequence\n",
    "- event_name_1: If the date includes an event, the name of this event.\n",
    "- event_type_1: If the date includes an event, the type of this event.\n",
    "- event_name_2: If the date includes a second event, the name of this event.\n",
    "- event_type_2: If the date includes a second event, the type of this event.\n",
    "- snap_CA, snap_TX, and snap_WI: A binary variable (0 or 1) indicating whether the stores of CA, TX or WI allow SNAP 3 purchases on the examined date. 1 indicates that SNAP purchases are allowed."
   ]
  },
  {
   "cell_type": "code",
   "execution_count": null,
   "metadata": {},
   "outputs": [],
   "source": [
    "print(df_calendar.min())\n",
    "print(df_calendar.max())"
   ]
  },
  {
   "cell_type": "code",
   "execution_count": null,
   "metadata": {},
   "outputs": [],
   "source": [
    "df_calendar.head(5)"
   ]
  },
  {
   "cell_type": "code",
   "execution_count": null,
   "metadata": {},
   "outputs": [],
   "source": [
    "df_calendar.info()"
   ]
  },
  {
   "cell_type": "markdown",
   "metadata": {},
   "source": [
    "- Observation : event관련 column을 제외하고는 NaN 값이 없다."
   ]
  },
  {
   "cell_type": "markdown",
   "metadata": {},
   "source": [
    "### Event 정보"
   ]
  },
  {
   "cell_type": "code",
   "execution_count": null,
   "metadata": {},
   "outputs": [],
   "source": [
    "# Event이름 추출\n",
    "df_calendar[\"event_name_1\"].unique()"
   ]
  },
  {
   "cell_type": "markdown",
   "metadata": {},
   "source": [
    "- Observation : NBAFinalsStart, NBAFinalsStop는 기간 이벤트다."
   ]
  },
  {
   "cell_type": "code",
   "execution_count": null,
   "metadata": {},
   "outputs": [],
   "source": [
    "df_calendar[df_calendar[\"event_name_1\"].isin([\"NBAFinalsStart\", \"NBAFinalsEnd\"])]"
   ]
  },
  {
   "cell_type": "code",
   "execution_count": null,
   "metadata": {},
   "outputs": [],
   "source": [
    "df_calendar[df_calendar[\"wm_yr_wk\"] == 11118]"
   ]
  },
  {
   "cell_type": "markdown",
   "metadata": {},
   "source": [
    "- Observation : NBA Final Event는 대략 2주 정도 지속된다."
   ]
  },
  {
   "cell_type": "code",
   "execution_count": null,
   "metadata": {},
   "outputs": [],
   "source": [
    "# \"event_name_1\"는 총 162번, \"event_name_2\"는 총 5번 \n",
    "\n",
    "print(\"# of event_name_1 : {}\".format(df_calendar[\"event_name_1\"].notnull().sum()))\n",
    "print(\"# of event_name_2 : {}\".format(df_calendar[\"event_name_2\"].notnull().sum()))\n",
    "print(\"Event ratio(%) : {:.2%}\".format(df_calendar[\"event_name_1\"].notnull().sum()/len(df_calendar)))"
   ]
  },
  {
   "cell_type": "markdown",
   "metadata": {},
   "source": [
    "# sell_prices (df_prices)\n",
    "Contains information about the price of the products sold per store and date.\n",
    "\n",
    "- store_id: The id of the store where the product is sold.\n",
    "- item_id: The id of the product.\n",
    "- wm_yr_wk: The id of the week.\n",
    "- sell_price: The price of the product for the given week/store. The price is provided per week (average across seven days). If not available, this means that the product was not sold during the examined week. Note that although prices are constant at weekly basis, they may change through time (both training and test set)."
   ]
  },
  {
   "cell_type": "code",
   "execution_count": null,
   "metadata": {},
   "outputs": [],
   "source": [
    "df_prices.head(5)"
   ]
  },
  {
   "cell_type": "code",
   "execution_count": null,
   "metadata": {},
   "outputs": [],
   "source": [
    "df_prices.info()"
   ]
  },
  {
   "cell_type": "code",
   "execution_count": null,
   "metadata": {},
   "outputs": [],
   "source": [
    "df_prices.min()"
   ]
  },
  {
   "cell_type": "code",
   "execution_count": null,
   "metadata": {},
   "outputs": [],
   "source": [
    "df_prices.groupby(\"item_id\").min().reset_index().head(20)"
   ]
  },
  {
   "cell_type": "markdown",
   "metadata": {},
   "source": [
    "- Observations\n",
    "    - `df_prices`내 `wm_yr_wk`의 최소값은 11,101\n",
    "    - `FOODS_1_004`는 `wm_yr_wk`의 최소값이 11,206 : 11,101 ~ 11,205 주 까지는 판매되지 않았다."
   ]
  },
  {
   "cell_type": "code",
   "execution_count": null,
   "metadata": {},
   "outputs": [],
   "source": []
  }
 ],
 "metadata": {
  "kernelspec": {
   "display_name": "conda_tensorflow_p36",
   "language": "python",
   "name": "conda_tensorflow_p36"
  },
  "language_info": {
   "codemirror_mode": {
    "name": "ipython",
    "version": 3
   },
   "file_extension": ".py",
   "mimetype": "text/x-python",
   "name": "python",
   "nbconvert_exporter": "python",
   "pygments_lexer": "ipython3",
   "version": "3.6.7"
  }
 },
 "nbformat": 4,
 "nbformat_minor": 4
}
