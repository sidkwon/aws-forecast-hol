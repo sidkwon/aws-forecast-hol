{
 "cells": [
  {
   "cell_type": "markdown",
   "metadata": {},
   "source": [
    "# Amazon Forecast\n",
    "\n",
    "2015년 12월 말 시점의 sales를 예측\n",
    "\n",
    " - dept_id FOODS_3 (8230개) 중 200개 Sampling (Best200)\n",
    " - Target Time Series\n",
    "     - From/To : 2014-01-01/2015-11-30\n",
    "     - **timestamp (timestamp)**\n",
    "     - **id (string)**\n",
    "     - **demand (int)**\n",
    " - Related Time Series\n",
    "     - From/To : 2014-01-01/2015-12-30 (Target Time Series + 30days)\n",
    "     - **timestamp (timestamp)**\n",
    "     - **id (string)**\n",
    "     - sell_price (float)\n",
    "     - snap_CA, snap_TX, snap_WI (int)\n",
    "     - Easter, LaborDay, Purim_End, StPatricksDay, SuperBowl (int)\n",
    "     - Black Friday (int)\n",
    " - Item meta data : id, item_id, dept_id, cat_id, store_id, state_id\n",
    " - BackTestWindows : 4\n",
    " - BackTestWindowOffset : Default (Same as ForecastHorizon)"
   ]
  },
  {
   "cell_type": "markdown",
   "metadata": {},
   "source": [
    "<img src=\"../img/forecast-steps.png\" align=\"left\">"
   ]
  },
  {
   "cell_type": "markdown",
   "metadata": {},
   "source": [
    "# Data Preparation"
   ]
  },
  {
   "cell_type": "code",
   "execution_count": 1,
   "metadata": {},
   "outputs": [],
   "source": [
    "# Import required library\n",
    "import numpy as np\n",
    "import pandas as pd\n",
    "import matplotlib.pyplot as plt\n",
    "import boto3\n",
    "from datetime import datetime, timedelta\n",
    "import json\n",
    "import time\n",
    "from time import sleep\n",
    "import warnings\n",
    "\n",
    "%matplotlib inline\n",
    "\n",
    "warnings.filterwarnings(action='ignore')"
   ]
  },
  {
   "cell_type": "code",
   "execution_count": 2,
   "metadata": {},
   "outputs": [],
   "source": [
    "%store -r"
   ]
  },
  {
   "cell_type": "code",
   "execution_count": 3,
   "metadata": {},
   "outputs": [
    {
     "data": {
      "text/plain": [
       "15743990"
      ]
     },
     "execution_count": 3,
     "metadata": {},
     "output_type": "execute_result"
    }
   ],
   "source": [
    "len(df_merged) # 15,743,990"
   ]
  },
  {
   "cell_type": "code",
   "execution_count": 4,
   "metadata": {},
   "outputs": [
    {
     "data": {
      "text/plain": [
       "8230"
      ]
     },
     "execution_count": 4,
     "metadata": {},
     "output_type": "execute_result"
    }
   ],
   "source": [
    "len(df_sales_foods_3) #8,230"
   ]
  },
  {
   "cell_type": "code",
   "execution_count": 5,
   "metadata": {},
   "outputs": [
    {
     "data": {
      "text/html": [
       "<div>\n",
       "<style scoped>\n",
       "    .dataframe tbody tr th:only-of-type {\n",
       "        vertical-align: middle;\n",
       "    }\n",
       "\n",
       "    .dataframe tbody tr th {\n",
       "        vertical-align: top;\n",
       "    }\n",
       "\n",
       "    .dataframe thead th {\n",
       "        text-align: right;\n",
       "    }\n",
       "</style>\n",
       "<table border=\"1\" class=\"dataframe\">\n",
       "  <thead>\n",
       "    <tr style=\"text-align: right;\">\n",
       "      <th></th>\n",
       "      <th>id</th>\n",
       "      <th>item_id</th>\n",
       "      <th>dept_id</th>\n",
       "      <th>cat_id</th>\n",
       "      <th>store_id</th>\n",
       "      <th>state_id</th>\n",
       "      <th>d_1</th>\n",
       "      <th>d_2</th>\n",
       "      <th>d_3</th>\n",
       "      <th>d_4</th>\n",
       "      <th>...</th>\n",
       "      <th>d_1904</th>\n",
       "      <th>d_1905</th>\n",
       "      <th>d_1906</th>\n",
       "      <th>d_1907</th>\n",
       "      <th>d_1908</th>\n",
       "      <th>d_1909</th>\n",
       "      <th>d_1910</th>\n",
       "      <th>d_1911</th>\n",
       "      <th>d_1912</th>\n",
       "      <th>d_1913</th>\n",
       "    </tr>\n",
       "  </thead>\n",
       "  <tbody>\n",
       "    <tr>\n",
       "      <th>2226</th>\n",
       "      <td>FOODS_3_001_CA_1_validation</td>\n",
       "      <td>FOODS_3_001</td>\n",
       "      <td>FOODS_3</td>\n",
       "      <td>FOODS</td>\n",
       "      <td>CA_1</td>\n",
       "      <td>CA</td>\n",
       "      <td>1</td>\n",
       "      <td>1</td>\n",
       "      <td>1</td>\n",
       "      <td>1</td>\n",
       "      <td>...</td>\n",
       "      <td>0</td>\n",
       "      <td>0</td>\n",
       "      <td>1</td>\n",
       "      <td>2</td>\n",
       "      <td>0</td>\n",
       "      <td>0</td>\n",
       "      <td>1</td>\n",
       "      <td>0</td>\n",
       "      <td>0</td>\n",
       "      <td>1</td>\n",
       "    </tr>\n",
       "    <tr>\n",
       "      <th>2227</th>\n",
       "      <td>FOODS_3_002_CA_1_validation</td>\n",
       "      <td>FOODS_3_002</td>\n",
       "      <td>FOODS_3</td>\n",
       "      <td>FOODS</td>\n",
       "      <td>CA_1</td>\n",
       "      <td>CA</td>\n",
       "      <td>0</td>\n",
       "      <td>0</td>\n",
       "      <td>0</td>\n",
       "      <td>0</td>\n",
       "      <td>...</td>\n",
       "      <td>0</td>\n",
       "      <td>0</td>\n",
       "      <td>0</td>\n",
       "      <td>0</td>\n",
       "      <td>0</td>\n",
       "      <td>0</td>\n",
       "      <td>0</td>\n",
       "      <td>0</td>\n",
       "      <td>0</td>\n",
       "      <td>0</td>\n",
       "    </tr>\n",
       "    <tr>\n",
       "      <th>2228</th>\n",
       "      <td>FOODS_3_003_CA_1_validation</td>\n",
       "      <td>FOODS_3_003</td>\n",
       "      <td>FOODS_3</td>\n",
       "      <td>FOODS</td>\n",
       "      <td>CA_1</td>\n",
       "      <td>CA</td>\n",
       "      <td>0</td>\n",
       "      <td>0</td>\n",
       "      <td>0</td>\n",
       "      <td>0</td>\n",
       "      <td>...</td>\n",
       "      <td>0</td>\n",
       "      <td>1</td>\n",
       "      <td>1</td>\n",
       "      <td>1</td>\n",
       "      <td>0</td>\n",
       "      <td>0</td>\n",
       "      <td>0</td>\n",
       "      <td>0</td>\n",
       "      <td>1</td>\n",
       "      <td>0</td>\n",
       "    </tr>\n",
       "    <tr>\n",
       "      <th>2229</th>\n",
       "      <td>FOODS_3_004_CA_1_validation</td>\n",
       "      <td>FOODS_3_004</td>\n",
       "      <td>FOODS_3</td>\n",
       "      <td>FOODS</td>\n",
       "      <td>CA_1</td>\n",
       "      <td>CA</td>\n",
       "      <td>0</td>\n",
       "      <td>0</td>\n",
       "      <td>0</td>\n",
       "      <td>0</td>\n",
       "      <td>...</td>\n",
       "      <td>1</td>\n",
       "      <td>2</td>\n",
       "      <td>0</td>\n",
       "      <td>0</td>\n",
       "      <td>0</td>\n",
       "      <td>0</td>\n",
       "      <td>0</td>\n",
       "      <td>2</td>\n",
       "      <td>0</td>\n",
       "      <td>1</td>\n",
       "    </tr>\n",
       "    <tr>\n",
       "      <th>2230</th>\n",
       "      <td>FOODS_3_005_CA_1_validation</td>\n",
       "      <td>FOODS_3_005</td>\n",
       "      <td>FOODS_3</td>\n",
       "      <td>FOODS</td>\n",
       "      <td>CA_1</td>\n",
       "      <td>CA</td>\n",
       "      <td>1</td>\n",
       "      <td>0</td>\n",
       "      <td>1</td>\n",
       "      <td>2</td>\n",
       "      <td>...</td>\n",
       "      <td>0</td>\n",
       "      <td>0</td>\n",
       "      <td>2</td>\n",
       "      <td>0</td>\n",
       "      <td>0</td>\n",
       "      <td>0</td>\n",
       "      <td>0</td>\n",
       "      <td>0</td>\n",
       "      <td>1</td>\n",
       "      <td>0</td>\n",
       "    </tr>\n",
       "  </tbody>\n",
       "</table>\n",
       "<p>5 rows × 1919 columns</p>\n",
       "</div>"
      ],
      "text/plain": [
       "                               id      item_id  dept_id cat_id store_id  \\\n",
       "2226  FOODS_3_001_CA_1_validation  FOODS_3_001  FOODS_3  FOODS     CA_1   \n",
       "2227  FOODS_3_002_CA_1_validation  FOODS_3_002  FOODS_3  FOODS     CA_1   \n",
       "2228  FOODS_3_003_CA_1_validation  FOODS_3_003  FOODS_3  FOODS     CA_1   \n",
       "2229  FOODS_3_004_CA_1_validation  FOODS_3_004  FOODS_3  FOODS     CA_1   \n",
       "2230  FOODS_3_005_CA_1_validation  FOODS_3_005  FOODS_3  FOODS     CA_1   \n",
       "\n",
       "     state_id  d_1  d_2  d_3  d_4  ...  d_1904  d_1905  d_1906  d_1907  \\\n",
       "2226       CA    1    1    1    1  ...       0       0       1       2   \n",
       "2227       CA    0    0    0    0  ...       0       0       0       0   \n",
       "2228       CA    0    0    0    0  ...       0       1       1       1   \n",
       "2229       CA    0    0    0    0  ...       1       2       0       0   \n",
       "2230       CA    1    0    1    2  ...       0       0       2       0   \n",
       "\n",
       "      d_1908  d_1909  d_1910  d_1911  d_1912  d_1913  \n",
       "2226       0       0       1       0       0       1  \n",
       "2227       0       0       0       0       0       0  \n",
       "2228       0       0       0       0       1       0  \n",
       "2229       0       0       0       2       0       1  \n",
       "2230       0       0       0       0       1       0  \n",
       "\n",
       "[5 rows x 1919 columns]"
      ]
     },
     "execution_count": 5,
     "metadata": {},
     "output_type": "execute_result"
    }
   ],
   "source": [
    "df_sales_foods_3.head()"
   ]
  },
  {
   "cell_type": "markdown",
   "metadata": {},
   "source": [
    "## Best200 선택"
   ]
  },
  {
   "cell_type": "code",
   "execution_count": 6,
   "metadata": {},
   "outputs": [],
   "source": [
    "# d_로 시작하는 column 추출\n",
    "d_cols = [c for c in df_sales_foods_3.columns if 'd_' in c]\n",
    "\n",
    "# d_로 시작하는 column의 value(판매량)들을 더해 \"sales_total\" column에 추가\n",
    "df_sales_foods_3[\"sales_total\"] = df_sales_foods_3.loc[:,d_cols].sum(axis=1)"
   ]
  },
  {
   "cell_type": "code",
   "execution_count": 7,
   "metadata": {},
   "outputs": [
    {
     "data": {
      "text/plain": [
       "200"
      ]
     },
     "execution_count": 7,
     "metadata": {},
     "output_type": "execute_result"
    }
   ],
   "source": [
    "# Daily sales가 가장 많은 item Best200 list 선택\n",
    "best200  = df_sales_foods_3.sort_values(by=\"sales_total\", ascending=False).head(200)\n",
    "sampled = best200\n",
    "len(sampled)"
   ]
  },
  {
   "cell_type": "code",
   "execution_count": 8,
   "metadata": {},
   "outputs": [
    {
     "data": {
      "text/html": [
       "<div>\n",
       "<style scoped>\n",
       "    .dataframe tbody tr th:only-of-type {\n",
       "        vertical-align: middle;\n",
       "    }\n",
       "\n",
       "    .dataframe tbody tr th {\n",
       "        vertical-align: top;\n",
       "    }\n",
       "\n",
       "    .dataframe thead th {\n",
       "        text-align: right;\n",
       "    }\n",
       "</style>\n",
       "<table border=\"1\" class=\"dataframe\">\n",
       "  <thead>\n",
       "    <tr style=\"text-align: right;\">\n",
       "      <th></th>\n",
       "      <th>id</th>\n",
       "      <th>sales_total</th>\n",
       "    </tr>\n",
       "  </thead>\n",
       "  <tbody>\n",
       "    <tr>\n",
       "      <th>8412</th>\n",
       "      <td>FOODS_3_090_CA_3_validation</td>\n",
       "      <td>250502</td>\n",
       "    </tr>\n",
       "    <tr>\n",
       "      <th>18055</th>\n",
       "      <td>FOODS_3_586_TX_2_validation</td>\n",
       "      <td>192835</td>\n",
       "    </tr>\n",
       "    <tr>\n",
       "      <th>21104</th>\n",
       "      <td>FOODS_3_586_TX_3_validation</td>\n",
       "      <td>150122</td>\n",
       "    </tr>\n",
       "    <tr>\n",
       "      <th>8908</th>\n",
       "      <td>FOODS_3_586_CA_3_validation</td>\n",
       "      <td>134386</td>\n",
       "    </tr>\n",
       "    <tr>\n",
       "      <th>2314</th>\n",
       "      <td>FOODS_3_090_CA_1_validation</td>\n",
       "      <td>127203</td>\n",
       "    </tr>\n",
       "  </tbody>\n",
       "</table>\n",
       "</div>"
      ],
      "text/plain": [
       "                                id  sales_total\n",
       "8412   FOODS_3_090_CA_3_validation       250502\n",
       "18055  FOODS_3_586_TX_2_validation       192835\n",
       "21104  FOODS_3_586_TX_3_validation       150122\n",
       "8908   FOODS_3_586_CA_3_validation       134386\n",
       "2314   FOODS_3_090_CA_1_validation       127203"
      ]
     },
     "execution_count": 8,
     "metadata": {},
     "output_type": "execute_result"
    }
   ],
   "source": [
    "sampled[[\"id\", \"sales_total\"]].head()"
   ]
  },
  {
   "cell_type": "code",
   "execution_count": 9,
   "metadata": {},
   "outputs": [
    {
     "data": {
      "text/html": [
       "<div>\n",
       "<style scoped>\n",
       "    .dataframe tbody tr th:only-of-type {\n",
       "        vertical-align: middle;\n",
       "    }\n",
       "\n",
       "    .dataframe tbody tr th {\n",
       "        vertical-align: top;\n",
       "    }\n",
       "\n",
       "    .dataframe thead th {\n",
       "        text-align: right;\n",
       "    }\n",
       "</style>\n",
       "<table border=\"1\" class=\"dataframe\">\n",
       "  <thead>\n",
       "    <tr style=\"text-align: right;\">\n",
       "      <th></th>\n",
       "      <th>id</th>\n",
       "      <th>sales_total</th>\n",
       "    </tr>\n",
       "  </thead>\n",
       "  <tbody>\n",
       "    <tr>\n",
       "      <th>15101</th>\n",
       "      <td>FOODS_3_681_TX_1_validation</td>\n",
       "      <td>24273</td>\n",
       "    </tr>\n",
       "    <tr>\n",
       "      <th>8635</th>\n",
       "      <td>FOODS_3_313_CA_3_validation</td>\n",
       "      <td>24261</td>\n",
       "    </tr>\n",
       "    <tr>\n",
       "      <th>29751</th>\n",
       "      <td>FOODS_3_086_WI_3_validation</td>\n",
       "      <td>24133</td>\n",
       "    </tr>\n",
       "    <tr>\n",
       "      <th>29819</th>\n",
       "      <td>FOODS_3_154_WI_3_validation</td>\n",
       "      <td>24019</td>\n",
       "    </tr>\n",
       "    <tr>\n",
       "      <th>8699</th>\n",
       "      <td>FOODS_3_377_CA_3_validation</td>\n",
       "      <td>23976</td>\n",
       "    </tr>\n",
       "  </tbody>\n",
       "</table>\n",
       "</div>"
      ],
      "text/plain": [
       "                                id  sales_total\n",
       "15101  FOODS_3_681_TX_1_validation        24273\n",
       "8635   FOODS_3_313_CA_3_validation        24261\n",
       "29751  FOODS_3_086_WI_3_validation        24133\n",
       "29819  FOODS_3_154_WI_3_validation        24019\n",
       "8699   FOODS_3_377_CA_3_validation        23976"
      ]
     },
     "execution_count": 9,
     "metadata": {},
     "output_type": "execute_result"
    }
   ],
   "source": [
    "sampled[[\"id\", \"sales_total\"]].tail()"
   ]
  },
  {
   "cell_type": "code",
   "execution_count": 10,
   "metadata": {},
   "outputs": [],
   "source": [
    "# Best200 추출\n",
    "df_merged_sampled = df_merged[df_merged[\"id\"].isin(sampled.id)]"
   ]
  },
  {
   "cell_type": "code",
   "execution_count": 11,
   "metadata": {},
   "outputs": [
    {
     "data": {
      "text/plain": [
       "200"
      ]
     },
     "execution_count": 11,
     "metadata": {},
     "output_type": "execute_result"
    }
   ],
   "source": [
    "len(df_merged_sampled[\"id\"].unique()) # 200"
   ]
  },
  {
   "cell_type": "code",
   "execution_count": 12,
   "metadata": {},
   "outputs": [
    {
     "data": {
      "text/html": [
       "<div>\n",
       "<style scoped>\n",
       "    .dataframe tbody tr th:only-of-type {\n",
       "        vertical-align: middle;\n",
       "    }\n",
       "\n",
       "    .dataframe tbody tr th {\n",
       "        vertical-align: top;\n",
       "    }\n",
       "\n",
       "    .dataframe thead th {\n",
       "        text-align: right;\n",
       "    }\n",
       "</style>\n",
       "<table border=\"1\" class=\"dataframe\">\n",
       "  <thead>\n",
       "    <tr style=\"text-align: right;\">\n",
       "      <th></th>\n",
       "      <th>id</th>\n",
       "      <th>item_id</th>\n",
       "      <th>dept_id</th>\n",
       "      <th>cat_id</th>\n",
       "      <th>store_id</th>\n",
       "      <th>state_id</th>\n",
       "      <th>day</th>\n",
       "      <th>sales</th>\n",
       "      <th>wm_yr_wk</th>\n",
       "      <th>weekday</th>\n",
       "      <th>...</th>\n",
       "      <th>year</th>\n",
       "      <th>d</th>\n",
       "      <th>event_name_1</th>\n",
       "      <th>event_type_1</th>\n",
       "      <th>event_name_2</th>\n",
       "      <th>event_type_2</th>\n",
       "      <th>snap_CA</th>\n",
       "      <th>snap_TX</th>\n",
       "      <th>snap_WI</th>\n",
       "      <th>sell_price</th>\n",
       "    </tr>\n",
       "    <tr>\n",
       "      <th>date</th>\n",
       "      <th></th>\n",
       "      <th></th>\n",
       "      <th></th>\n",
       "      <th></th>\n",
       "      <th></th>\n",
       "      <th></th>\n",
       "      <th></th>\n",
       "      <th></th>\n",
       "      <th></th>\n",
       "      <th></th>\n",
       "      <th></th>\n",
       "      <th></th>\n",
       "      <th></th>\n",
       "      <th></th>\n",
       "      <th></th>\n",
       "      <th></th>\n",
       "      <th></th>\n",
       "      <th></th>\n",
       "      <th></th>\n",
       "      <th></th>\n",
       "      <th></th>\n",
       "    </tr>\n",
       "  </thead>\n",
       "  <tbody>\n",
       "    <tr>\n",
       "      <th>2011-01-29</th>\n",
       "      <td>FOODS_3_064_CA_1_validation</td>\n",
       "      <td>FOODS_3_064</td>\n",
       "      <td>FOODS_3</td>\n",
       "      <td>FOODS</td>\n",
       "      <td>CA_1</td>\n",
       "      <td>CA</td>\n",
       "      <td>d_1</td>\n",
       "      <td>0</td>\n",
       "      <td>11101</td>\n",
       "      <td>Saturday</td>\n",
       "      <td>...</td>\n",
       "      <td>2011</td>\n",
       "      <td>d_1</td>\n",
       "      <td>NaN</td>\n",
       "      <td>NaN</td>\n",
       "      <td>NaN</td>\n",
       "      <td>NaN</td>\n",
       "      <td>0</td>\n",
       "      <td>0</td>\n",
       "      <td>0</td>\n",
       "      <td>NaN</td>\n",
       "    </tr>\n",
       "    <tr>\n",
       "      <th>2011-01-29</th>\n",
       "      <td>FOODS_3_080_CA_1_validation</td>\n",
       "      <td>FOODS_3_080</td>\n",
       "      <td>FOODS_3</td>\n",
       "      <td>FOODS</td>\n",
       "      <td>CA_1</td>\n",
       "      <td>CA</td>\n",
       "      <td>d_1</td>\n",
       "      <td>33</td>\n",
       "      <td>11101</td>\n",
       "      <td>Saturday</td>\n",
       "      <td>...</td>\n",
       "      <td>2011</td>\n",
       "      <td>d_1</td>\n",
       "      <td>NaN</td>\n",
       "      <td>NaN</td>\n",
       "      <td>NaN</td>\n",
       "      <td>NaN</td>\n",
       "      <td>0</td>\n",
       "      <td>0</td>\n",
       "      <td>0</td>\n",
       "      <td>1.48</td>\n",
       "    </tr>\n",
       "    <tr>\n",
       "      <th>2011-01-29</th>\n",
       "      <td>FOODS_3_090_CA_1_validation</td>\n",
       "      <td>FOODS_3_090</td>\n",
       "      <td>FOODS_3</td>\n",
       "      <td>FOODS</td>\n",
       "      <td>CA_1</td>\n",
       "      <td>CA</td>\n",
       "      <td>d_1</td>\n",
       "      <td>107</td>\n",
       "      <td>11101</td>\n",
       "      <td>Saturday</td>\n",
       "      <td>...</td>\n",
       "      <td>2011</td>\n",
       "      <td>d_1</td>\n",
       "      <td>NaN</td>\n",
       "      <td>NaN</td>\n",
       "      <td>NaN</td>\n",
       "      <td>NaN</td>\n",
       "      <td>0</td>\n",
       "      <td>0</td>\n",
       "      <td>0</td>\n",
       "      <td>1.25</td>\n",
       "    </tr>\n",
       "    <tr>\n",
       "      <th>2011-01-29</th>\n",
       "      <td>FOODS_3_099_CA_1_validation</td>\n",
       "      <td>FOODS_3_099</td>\n",
       "      <td>FOODS_3</td>\n",
       "      <td>FOODS</td>\n",
       "      <td>CA_1</td>\n",
       "      <td>CA</td>\n",
       "      <td>d_1</td>\n",
       "      <td>0</td>\n",
       "      <td>11101</td>\n",
       "      <td>Saturday</td>\n",
       "      <td>...</td>\n",
       "      <td>2011</td>\n",
       "      <td>d_1</td>\n",
       "      <td>NaN</td>\n",
       "      <td>NaN</td>\n",
       "      <td>NaN</td>\n",
       "      <td>NaN</td>\n",
       "      <td>0</td>\n",
       "      <td>0</td>\n",
       "      <td>0</td>\n",
       "      <td>NaN</td>\n",
       "    </tr>\n",
       "    <tr>\n",
       "      <th>2011-01-29</th>\n",
       "      <td>FOODS_3_120_CA_1_validation</td>\n",
       "      <td>FOODS_3_120</td>\n",
       "      <td>FOODS_3</td>\n",
       "      <td>FOODS</td>\n",
       "      <td>CA_1</td>\n",
       "      <td>CA</td>\n",
       "      <td>d_1</td>\n",
       "      <td>0</td>\n",
       "      <td>11101</td>\n",
       "      <td>Saturday</td>\n",
       "      <td>...</td>\n",
       "      <td>2011</td>\n",
       "      <td>d_1</td>\n",
       "      <td>NaN</td>\n",
       "      <td>NaN</td>\n",
       "      <td>NaN</td>\n",
       "      <td>NaN</td>\n",
       "      <td>0</td>\n",
       "      <td>0</td>\n",
       "      <td>0</td>\n",
       "      <td>NaN</td>\n",
       "    </tr>\n",
       "  </tbody>\n",
       "</table>\n",
       "<p>5 rows × 22 columns</p>\n",
       "</div>"
      ],
      "text/plain": [
       "                                     id      item_id  dept_id cat_id store_id  \\\n",
       "date                                                                            \n",
       "2011-01-29  FOODS_3_064_CA_1_validation  FOODS_3_064  FOODS_3  FOODS     CA_1   \n",
       "2011-01-29  FOODS_3_080_CA_1_validation  FOODS_3_080  FOODS_3  FOODS     CA_1   \n",
       "2011-01-29  FOODS_3_090_CA_1_validation  FOODS_3_090  FOODS_3  FOODS     CA_1   \n",
       "2011-01-29  FOODS_3_099_CA_1_validation  FOODS_3_099  FOODS_3  FOODS     CA_1   \n",
       "2011-01-29  FOODS_3_120_CA_1_validation  FOODS_3_120  FOODS_3  FOODS     CA_1   \n",
       "\n",
       "           state_id  day  sales  wm_yr_wk   weekday  ...  year    d  \\\n",
       "date                                                 ...              \n",
       "2011-01-29       CA  d_1      0     11101  Saturday  ...  2011  d_1   \n",
       "2011-01-29       CA  d_1     33     11101  Saturday  ...  2011  d_1   \n",
       "2011-01-29       CA  d_1    107     11101  Saturday  ...  2011  d_1   \n",
       "2011-01-29       CA  d_1      0     11101  Saturday  ...  2011  d_1   \n",
       "2011-01-29       CA  d_1      0     11101  Saturday  ...  2011  d_1   \n",
       "\n",
       "            event_name_1 event_type_1 event_name_2 event_type_2 snap_CA  \\\n",
       "date                                                                      \n",
       "2011-01-29           NaN          NaN          NaN          NaN       0   \n",
       "2011-01-29           NaN          NaN          NaN          NaN       0   \n",
       "2011-01-29           NaN          NaN          NaN          NaN       0   \n",
       "2011-01-29           NaN          NaN          NaN          NaN       0   \n",
       "2011-01-29           NaN          NaN          NaN          NaN       0   \n",
       "\n",
       "           snap_TX  snap_WI  sell_price  \n",
       "date                                     \n",
       "2011-01-29       0        0         NaN  \n",
       "2011-01-29       0        0        1.48  \n",
       "2011-01-29       0        0        1.25  \n",
       "2011-01-29       0        0         NaN  \n",
       "2011-01-29       0        0         NaN  \n",
       "\n",
       "[5 rows x 22 columns]"
      ]
     },
     "execution_count": 12,
     "metadata": {},
     "output_type": "execute_result"
    }
   ],
   "source": [
    "df_merged_sampled.head()"
   ]
  },
  {
   "cell_type": "markdown",
   "metadata": {},
   "source": [
    "## Create Data Sets"
   ]
  },
  {
   "cell_type": "markdown",
   "metadata": {},
   "source": [
    "### Target (df_target)"
   ]
  },
  {
   "cell_type": "code",
   "execution_count": 13,
   "metadata": {},
   "outputs": [
    {
     "data": {
      "text/html": [
       "<div>\n",
       "<style scoped>\n",
       "    .dataframe tbody tr th:only-of-type {\n",
       "        vertical-align: middle;\n",
       "    }\n",
       "\n",
       "    .dataframe tbody tr th {\n",
       "        vertical-align: top;\n",
       "    }\n",
       "\n",
       "    .dataframe thead th {\n",
       "        text-align: right;\n",
       "    }\n",
       "</style>\n",
       "<table border=\"1\" class=\"dataframe\">\n",
       "  <thead>\n",
       "    <tr style=\"text-align: right;\">\n",
       "      <th></th>\n",
       "      <th>id</th>\n",
       "      <th>sales</th>\n",
       "    </tr>\n",
       "    <tr>\n",
       "      <th>date</th>\n",
       "      <th></th>\n",
       "      <th></th>\n",
       "    </tr>\n",
       "  </thead>\n",
       "  <tbody>\n",
       "    <tr>\n",
       "      <th>2014-01-01</th>\n",
       "      <td>FOODS_3_064_CA_1_validation</td>\n",
       "      <td>5</td>\n",
       "    </tr>\n",
       "    <tr>\n",
       "      <th>2014-01-01</th>\n",
       "      <td>FOODS_3_080_CA_1_validation</td>\n",
       "      <td>14</td>\n",
       "    </tr>\n",
       "    <tr>\n",
       "      <th>2014-01-01</th>\n",
       "      <td>FOODS_3_090_CA_1_validation</td>\n",
       "      <td>58</td>\n",
       "    </tr>\n",
       "    <tr>\n",
       "      <th>2014-01-01</th>\n",
       "      <td>FOODS_3_099_CA_1_validation</td>\n",
       "      <td>9</td>\n",
       "    </tr>\n",
       "    <tr>\n",
       "      <th>2014-01-01</th>\n",
       "      <td>FOODS_3_120_CA_1_validation</td>\n",
       "      <td>23</td>\n",
       "    </tr>\n",
       "  </tbody>\n",
       "</table>\n",
       "</div>"
      ],
      "text/plain": [
       "                                     id  sales\n",
       "date                                          \n",
       "2014-01-01  FOODS_3_064_CA_1_validation      5\n",
       "2014-01-01  FOODS_3_080_CA_1_validation     14\n",
       "2014-01-01  FOODS_3_090_CA_1_validation     58\n",
       "2014-01-01  FOODS_3_099_CA_1_validation      9\n",
       "2014-01-01  FOODS_3_120_CA_1_validation     23"
      ]
     },
     "execution_count": 13,
     "metadata": {},
     "output_type": "execute_result"
    }
   ],
   "source": [
    "df_target = df_merged_sampled[[\"id\", \"sales\"]]\n",
    "df_target = df_target.loc[\"2014-01-01\":\"2015-11-30\"]\n",
    "df_target.head()"
   ]
  },
  {
   "cell_type": "code",
   "execution_count": 14,
   "metadata": {},
   "outputs": [
    {
     "data": {
      "text/plain": [
       "139800"
      ]
     },
     "execution_count": 14,
     "metadata": {},
     "output_type": "execute_result"
    }
   ],
   "source": [
    "len(df_target)"
   ]
  },
  {
   "cell_type": "code",
   "execution_count": 15,
   "metadata": {},
   "outputs": [],
   "source": [
    "df_target = df_target.sort_values(by=[\"id\", \"date\"])"
   ]
  },
  {
   "cell_type": "markdown",
   "metadata": {},
   "source": [
    "### Related (df_related)\n",
    "- Black Friday 전일, 당일, 다음 날을 df_related 데이터에 추가한다."
   ]
  },
  {
   "cell_type": "code",
   "execution_count": 16,
   "metadata": {},
   "outputs": [],
   "source": [
    "df_merged_sampled['black_friday'] = 0"
   ]
  },
  {
   "cell_type": "code",
   "execution_count": 17,
   "metadata": {},
   "outputs": [],
   "source": [
    "# 2011년 Black Friday : 2011-11-25\n",
    "df_merged_sampled['black_friday'].loc[\"2011-11-24\":\"2011-11-26\"] = 1\n",
    "\n",
    "# 2012년 Black Friday : 2012-11-23\n",
    "df_merged_sampled['black_friday'].loc[\"2012-11-22\":\"2013-11-24\"] = 1\n",
    "\n",
    "# 2013년 Black Friday : 2013-11-29\n",
    "df_merged_sampled['black_friday'].loc[\"2013-11-28\":\"2013-11-30\"] = 1 \n",
    "\n",
    "# 2014년 Black Friday : 2014-11-28\n",
    "df_merged_sampled['black_friday'].loc[\"2014-11-27\":\"2014-11-29\"] = 1\n",
    "\n",
    "# 2015년 Black Friday : 2015-11-27\n",
    "df_merged_sampled['black_friday'].loc[\"2015-11-26\":\"2015-11-28\"] = 1"
   ]
  },
  {
   "cell_type": "code",
   "execution_count": 18,
   "metadata": {},
   "outputs": [
    {
     "name": "stdout",
     "output_type": "stream",
     "text": [
      "145800\n"
     ]
    },
    {
     "data": {
      "text/plain": [
       "id                   0\n",
       "event_name_1    134200\n",
       "snap_CA              0\n",
       "snap_TX              0\n",
       "snap_WI              0\n",
       "sell_price           0\n",
       "black_friday         0\n",
       "dtype: int64"
      ]
     },
     "execution_count": 18,
     "metadata": {},
     "output_type": "execute_result"
    }
   ],
   "source": [
    "df_related = df_merged_sampled[[\"id\", \"event_name_1\", \"snap_CA\", \"snap_TX\", \"snap_WI\", \"sell_price\", \"black_friday\"]]\n",
    "\n",
    "# Related TS는 Target TS + ForecastHorizon까지 데이터가 있어야 하고,\n",
    "# Missing Value가 있으면 안된다.\n",
    "df_related = df_related.loc[\"2014-01-01\":\"2015-12-30\"]\n",
    "\n",
    "print(len(df_related))\n",
    "df_related.isnull().sum()"
   ]
  },
  {
   "cell_type": "code",
   "execution_count": 19,
   "metadata": {},
   "outputs": [
    {
     "data": {
      "text/plain": [
       "id              0\n",
       "event_name_1    0\n",
       "snap_CA         0\n",
       "snap_TX         0\n",
       "snap_WI         0\n",
       "sell_price      0\n",
       "black_friday    0\n",
       "dtype: int64"
      ]
     },
     "execution_count": 19,
     "metadata": {},
     "output_type": "execute_result"
    }
   ],
   "source": [
    "# event_name_1의 NaN를 \"None\"으로 fill\n",
    "df_related[\"event_name_1\"] = df_related[\"event_name_1\"].fillna(\"None\")\n",
    "\n",
    "# 특정 item이 2015-07-01 이후부터 판매 되었다고 한다면, df_sales의 해당 item의 sell_price 데이터는 2015-07-01 이후부터 있을 것이다.\n",
    "# df_merged의 date는 df_calendar를 merge했으므로 특정 item의 date는 2011-01-29~2016-06-19 범위지만,\n",
    "# 특정 item의 df_sales내 date는 2015-07-01 이후이므로\n",
    "# df_merged와 df_sales를 Merge하면 특정 item의 2015-07-01 이전 시점의 sell_price는 NaN이다.\n",
    "# 따라서 sell_price의 NaN를 \"0\"으로 fill\n",
    "df_related[\"sell_price\"] = df_related[\"sell_price\"].fillna(0)\n",
    "df_related.isnull().sum()"
   ]
  },
  {
   "cell_type": "code",
   "execution_count": 20,
   "metadata": {},
   "outputs": [
    {
     "name": "stdout",
     "output_type": "stream",
     "text": [
      "145800\n"
     ]
    },
    {
     "data": {
      "text/plain": [
       "id              0\n",
       "event_name_1    0\n",
       "snap_CA         0\n",
       "snap_TX         0\n",
       "snap_WI         0\n",
       "sell_price      0\n",
       "black_friday    0\n",
       "dtype: int64"
      ]
     },
     "execution_count": 20,
     "metadata": {},
     "output_type": "execute_result"
    }
   ],
   "source": [
    "print(len(df_related)) # 359400 = 200items*(1767+30)days\n",
    "df_related.isnull().sum()"
   ]
  },
  {
   "cell_type": "code",
   "execution_count": 21,
   "metadata": {},
   "outputs": [],
   "source": [
    "# One-hot encoding for event_name_1\n",
    "df_related = pd.concat([df_related, pd.get_dummies(df_related['event_name_1'])],axis=1)"
   ]
  },
  {
   "cell_type": "code",
   "execution_count": 22,
   "metadata": {},
   "outputs": [
    {
     "name": "stdout",
     "output_type": "stream",
     "text": [
      "145800\n"
     ]
    },
    {
     "data": {
      "text/plain": [
       "id                     0\n",
       "event_name_1           0\n",
       "snap_CA                0\n",
       "snap_TX                0\n",
       "snap_WI                0\n",
       "sell_price             0\n",
       "black_friday           0\n",
       "Chanukah End           0\n",
       "Christmas              0\n",
       "Cinco De Mayo          0\n",
       "ColumbusDay            0\n",
       "Easter                 0\n",
       "Eid al-Fitr            0\n",
       "EidAlAdha              0\n",
       "Father's day           0\n",
       "Halloween              0\n",
       "IndependenceDay        0\n",
       "LaborDay               0\n",
       "LentStart              0\n",
       "LentWeek2              0\n",
       "MartinLutherKingDay    0\n",
       "MemorialDay            0\n",
       "Mother's day           0\n",
       "NBAFinalsEnd           0\n",
       "NBAFinalsStart         0\n",
       "NewYear                0\n",
       "None                   0\n",
       "OrthodoxChristmas      0\n",
       "OrthodoxEaster         0\n",
       "Pesach End             0\n",
       "PresidentsDay          0\n",
       "Purim End              0\n",
       "Ramadan starts         0\n",
       "StPatricksDay          0\n",
       "SuperBowl              0\n",
       "Thanksgiving           0\n",
       "ValentinesDay          0\n",
       "VeteransDay            0\n",
       "dtype: int64"
      ]
     },
     "execution_count": 22,
     "metadata": {},
     "output_type": "execute_result"
    }
   ],
   "source": [
    "print(len(df_related))\n",
    "df_related.isnull().sum()"
   ]
  },
  {
   "cell_type": "code",
   "execution_count": 23,
   "metadata": {},
   "outputs": [],
   "source": [
    "# event_name_1에서 Unique value 추출\n",
    "all_events = df_related.event_name_1.unique()\n",
    "\n",
    "# event_name_1 : SuperBowl, LaborDay, Purim End, Easter, StPatricksDay <- Sales가 가장 많은 event 다섯 개만 Related에 추가\n",
    "chosen_events = ['SuperBowl', 'LaborDay', 'Purim End', 'Easter', 'StPatricksDay']\n",
    "for event in [event for event in all_events if event not in chosen_events]:\n",
    "    df_related.drop([event], axis=1, inplace=True)\n",
    "\n",
    "df_related.drop([\"event_name_1\"], axis=1, inplace=True)\n",
    "#df_related.head()"
   ]
  },
  {
   "cell_type": "code",
   "execution_count": 24,
   "metadata": {},
   "outputs": [
    {
     "name": "stdout",
     "output_type": "stream",
     "text": [
      "145800\n"
     ]
    },
    {
     "data": {
      "text/plain": [
       "id               0\n",
       "snap_CA          0\n",
       "snap_TX          0\n",
       "snap_WI          0\n",
       "sell_price       0\n",
       "black_friday     0\n",
       "Easter           0\n",
       "LaborDay         0\n",
       "Purim End        0\n",
       "StPatricksDay    0\n",
       "SuperBowl        0\n",
       "dtype: int64"
      ]
     },
     "execution_count": 24,
     "metadata": {},
     "output_type": "execute_result"
    }
   ],
   "source": [
    "print(len(df_related))\n",
    "df_related.isnull().sum()"
   ]
  },
  {
   "cell_type": "code",
   "execution_count": 25,
   "metadata": {},
   "outputs": [],
   "source": [
    "df_related = df_related.sort_values(by=[\"id\", \"date\"])"
   ]
  },
  {
   "cell_type": "markdown",
   "metadata": {},
   "source": [
    "### Item_metadata (df_item)"
   ]
  },
  {
   "cell_type": "code",
   "execution_count": 26,
   "metadata": {},
   "outputs": [],
   "source": [
    "df_item = df_merged_sampled[[\"id\", \"item_id\", \"dept_id\", \"cat_id\", \"store_id\", \"state_id\"]].drop_duplicates()"
   ]
  },
  {
   "cell_type": "code",
   "execution_count": 27,
   "metadata": {},
   "outputs": [
    {
     "data": {
      "text/plain": [
       "200"
      ]
     },
     "execution_count": 27,
     "metadata": {},
     "output_type": "execute_result"
    }
   ],
   "source": [
    "len(df_item) #200"
   ]
  },
  {
   "cell_type": "code",
   "execution_count": 28,
   "metadata": {},
   "outputs": [
    {
     "data": {
      "text/plain": [
       "200"
      ]
     },
     "execution_count": 28,
     "metadata": {},
     "output_type": "execute_result"
    }
   ],
   "source": [
    "len(df_item[\"id\"].unique()) # 200"
   ]
  },
  {
   "cell_type": "code",
   "execution_count": 29,
   "metadata": {},
   "outputs": [
    {
     "data": {
      "text/html": [
       "<div>\n",
       "<style scoped>\n",
       "    .dataframe tbody tr th:only-of-type {\n",
       "        vertical-align: middle;\n",
       "    }\n",
       "\n",
       "    .dataframe tbody tr th {\n",
       "        vertical-align: top;\n",
       "    }\n",
       "\n",
       "    .dataframe thead th {\n",
       "        text-align: right;\n",
       "    }\n",
       "</style>\n",
       "<table border=\"1\" class=\"dataframe\">\n",
       "  <thead>\n",
       "    <tr style=\"text-align: right;\">\n",
       "      <th></th>\n",
       "      <th>id</th>\n",
       "      <th>item_id</th>\n",
       "      <th>dept_id</th>\n",
       "      <th>cat_id</th>\n",
       "      <th>store_id</th>\n",
       "      <th>state_id</th>\n",
       "    </tr>\n",
       "    <tr>\n",
       "      <th>date</th>\n",
       "      <th></th>\n",
       "      <th></th>\n",
       "      <th></th>\n",
       "      <th></th>\n",
       "      <th></th>\n",
       "      <th></th>\n",
       "    </tr>\n",
       "  </thead>\n",
       "  <tbody>\n",
       "    <tr>\n",
       "      <th>2011-01-29</th>\n",
       "      <td>FOODS_3_064_CA_1_validation</td>\n",
       "      <td>FOODS_3_064</td>\n",
       "      <td>FOODS_3</td>\n",
       "      <td>FOODS</td>\n",
       "      <td>CA_1</td>\n",
       "      <td>CA</td>\n",
       "    </tr>\n",
       "    <tr>\n",
       "      <th>2011-01-29</th>\n",
       "      <td>FOODS_3_080_CA_1_validation</td>\n",
       "      <td>FOODS_3_080</td>\n",
       "      <td>FOODS_3</td>\n",
       "      <td>FOODS</td>\n",
       "      <td>CA_1</td>\n",
       "      <td>CA</td>\n",
       "    </tr>\n",
       "    <tr>\n",
       "      <th>2011-01-29</th>\n",
       "      <td>FOODS_3_090_CA_1_validation</td>\n",
       "      <td>FOODS_3_090</td>\n",
       "      <td>FOODS_3</td>\n",
       "      <td>FOODS</td>\n",
       "      <td>CA_1</td>\n",
       "      <td>CA</td>\n",
       "    </tr>\n",
       "    <tr>\n",
       "      <th>2011-01-29</th>\n",
       "      <td>FOODS_3_099_CA_1_validation</td>\n",
       "      <td>FOODS_3_099</td>\n",
       "      <td>FOODS_3</td>\n",
       "      <td>FOODS</td>\n",
       "      <td>CA_1</td>\n",
       "      <td>CA</td>\n",
       "    </tr>\n",
       "    <tr>\n",
       "      <th>2011-01-29</th>\n",
       "      <td>FOODS_3_120_CA_1_validation</td>\n",
       "      <td>FOODS_3_120</td>\n",
       "      <td>FOODS_3</td>\n",
       "      <td>FOODS</td>\n",
       "      <td>CA_1</td>\n",
       "      <td>CA</td>\n",
       "    </tr>\n",
       "  </tbody>\n",
       "</table>\n",
       "</div>"
      ],
      "text/plain": [
       "                                     id      item_id  dept_id cat_id store_id  \\\n",
       "date                                                                            \n",
       "2011-01-29  FOODS_3_064_CA_1_validation  FOODS_3_064  FOODS_3  FOODS     CA_1   \n",
       "2011-01-29  FOODS_3_080_CA_1_validation  FOODS_3_080  FOODS_3  FOODS     CA_1   \n",
       "2011-01-29  FOODS_3_090_CA_1_validation  FOODS_3_090  FOODS_3  FOODS     CA_1   \n",
       "2011-01-29  FOODS_3_099_CA_1_validation  FOODS_3_099  FOODS_3  FOODS     CA_1   \n",
       "2011-01-29  FOODS_3_120_CA_1_validation  FOODS_3_120  FOODS_3  FOODS     CA_1   \n",
       "\n",
       "           state_id  \n",
       "date                 \n",
       "2011-01-29       CA  \n",
       "2011-01-29       CA  \n",
       "2011-01-29       CA  \n",
       "2011-01-29       CA  \n",
       "2011-01-29       CA  "
      ]
     },
     "execution_count": 29,
     "metadata": {},
     "output_type": "execute_result"
    }
   ],
   "source": [
    "df_item.head()"
   ]
  },
  {
   "cell_type": "markdown",
   "metadata": {},
   "source": [
    "## Make CSV files"
   ]
  },
  {
   "cell_type": "code",
   "execution_count": 30,
   "metadata": {},
   "outputs": [],
   "source": [
    "# Prepare csv files\n",
    "\n",
    "!mkdir ./train\n",
    "\n",
    "local_path = \"./train/\"\n",
    "\n",
    "target_file_name     = \"df_target.csv\"\n",
    "related_file_name    = \"df_related.csv\"\n",
    "item_file_name       = \"df_item.csv\"\n",
    "\n",
    "local_target     = local_path + target_file_name\n",
    "local_related    = local_path + related_file_name\n",
    "local_item       = local_path + item_file_name\n",
    "\n",
    "df_target.to_csv(local_target, header=False, index=True)\n",
    "df_related.to_csv(local_related, header=False, index=True)\n",
    "df_item.to_csv(local_item, header=False, index=False) #index 제외"
   ]
  },
  {
   "cell_type": "markdown",
   "metadata": {},
   "source": [
    "# Forecast 시작\n",
    "\n",
    "참고 : https://github.com/chrisking/ForecastPOC/blob/master/"
   ]
  },
  {
   "cell_type": "code",
   "execution_count": 31,
   "metadata": {},
   "outputs": [],
   "source": [
    "DATASET_FREQUENCY = \"D\" # Day\n",
    "TIMESTAMP_FORMAT = \"yyyy-MM-dd\"\n",
    "\n",
    "project = 'walmart_m5'\n",
    "datasetName= project+'_ds'\n",
    "datasetGroupName= project +'_dsg'"
   ]
  },
  {
   "cell_type": "code",
   "execution_count": 32,
   "metadata": {},
   "outputs": [
    {
     "name": "stdout",
     "output_type": "stream",
     "text": [
      "us-east-1\n"
     ]
    }
   ],
   "source": [
    "# Jupyter notebook이 실행되는 AWS region 정보 추출\n",
    "with open('/opt/ml/metadata/resource-metadata.json') as notebook_info:\n",
    "    data = json.load(notebook_info)\n",
    "    resource_arn = data['ResourceArn']\n",
    "    region = resource_arn.split(':')[3]\n",
    "print(region)"
   ]
  },
  {
   "cell_type": "code",
   "execution_count": 33,
   "metadata": {},
   "outputs": [],
   "source": [
    "session = boto3.Session(region_name=region)\n",
    "forecast = session.client(service_name='forecast')\n",
    "forecast_query = session.client(service_name='forecastquery')"
   ]
  },
  {
   "cell_type": "code",
   "execution_count": 34,
   "metadata": {},
   "outputs": [
    {
     "name": "stdout",
     "output_type": "stream",
     "text": [
      "arn:aws:iam::889750940888:role/forecast-sm-hol-smNotebookRole68693F67-DG5AW9BOQJXX\n"
     ]
    }
   ],
   "source": [
    "# Sagemaker Jupyter notebook에서 Amazon Forecast의 API를 사용할 수 있도록 execution_role을 가져 온다.\n",
    "\n",
    "from sagemaker import get_execution_role\n",
    "\n",
    "role_arn = get_execution_role()\n",
    "print(role_arn)"
   ]
  },
  {
   "cell_type": "markdown",
   "metadata": {},
   "source": [
    "## 1. Datagroup 생성"
   ]
  },
  {
   "cell_type": "code",
   "execution_count": 38,
   "metadata": {},
   "outputs": [],
   "source": [
    "create_dataset_group_response = forecast.create_dataset_group(DatasetGroupName=datasetGroupName,\n",
    "                                                              Domain=\"RETAIL\",\n",
    "                                                             )\n",
    "datasetGroupArn = create_dataset_group_response['DatasetGroupArn']"
   ]
  },
  {
   "cell_type": "code",
   "execution_count": 39,
   "metadata": {},
   "outputs": [
    {
     "data": {
      "text/plain": [
       "{'DatasetGroupName': 'walmart_m5_dsg',\n",
       " 'DatasetGroupArn': 'arn:aws:forecast:us-east-1:889750940888:dataset-group/walmart_m5_dsg',\n",
       " 'DatasetArns': [],\n",
       " 'Domain': 'RETAIL',\n",
       " 'Status': 'ACTIVE',\n",
       " 'CreationTime': datetime.datetime(2020, 11, 2, 14, 36, 21, 704000, tzinfo=tzlocal()),\n",
       " 'LastModificationTime': datetime.datetime(2020, 11, 2, 14, 36, 21, 704000, tzinfo=tzlocal()),\n",
       " 'ResponseMetadata': {'RequestId': 'c8435e4f-6002-45ba-be36-5f83d631e73d',\n",
       "  'HTTPStatusCode': 200,\n",
       "  'HTTPHeaders': {'content-type': 'application/x-amz-json-1.1',\n",
       "   'date': 'Mon, 02 Nov 2020 14:36:23 GMT',\n",
       "   'x-amzn-requestid': 'c8435e4f-6002-45ba-be36-5f83d631e73d',\n",
       "   'content-length': '251',\n",
       "   'connection': 'keep-alive'},\n",
       "  'RetryAttempts': 0}}"
      ]
     },
     "execution_count": 39,
     "metadata": {},
     "output_type": "execute_result"
    }
   ],
   "source": [
    "forecast.describe_dataset_group(DatasetGroupArn=datasetGroupArn)"
   ]
  },
  {
   "cell_type": "markdown",
   "metadata": {},
   "source": [
    "## 2a. Target Time Series Dataset 생성"
   ]
  },
  {
   "cell_type": "code",
   "execution_count": 40,
   "metadata": {},
   "outputs": [],
   "source": [
    "# Specify the schema of your dataset here. Make sure the order of columns matches the raw data files.\n",
    "schema ={\n",
    "   \"Attributes\":[\n",
    "      {\n",
    "         \"AttributeName\":\"timestamp\",\n",
    "         \"AttributeType\":\"timestamp\"\n",
    "      },\n",
    "      {\n",
    "         \"AttributeName\":\"item_id\",\n",
    "         \"AttributeType\":\"string\"\n",
    "      },\n",
    "      {\n",
    "         \"AttributeName\":\"demand\",\n",
    "         \"AttributeType\":\"integer\"\n",
    "      }\n",
    "   ]\n",
    "}"
   ]
  },
  {
   "cell_type": "code",
   "execution_count": 41,
   "metadata": {},
   "outputs": [],
   "source": [
    "target_DSN = datasetName + \"_target\"\n",
    "\n",
    "response=forecast.create_dataset(\n",
    "                    Domain=\"RETAIL\",\n",
    "                    DatasetType='TARGET_TIME_SERIES',\n",
    "                    DatasetName=target_DSN,\n",
    "                    DataFrequency=DATASET_FREQUENCY, \n",
    "                    Schema = schema\n",
    ")"
   ]
  },
  {
   "cell_type": "code",
   "execution_count": 42,
   "metadata": {},
   "outputs": [
    {
     "data": {
      "text/plain": [
       "{'DatasetArn': 'arn:aws:forecast:us-east-1:889750940888:dataset/walmart_m5_ds_target',\n",
       " 'DatasetName': 'walmart_m5_ds_target',\n",
       " 'Domain': 'RETAIL',\n",
       " 'DatasetType': 'TARGET_TIME_SERIES',\n",
       " 'DataFrequency': 'D',\n",
       " 'Schema': {'Attributes': [{'AttributeName': 'timestamp',\n",
       "    'AttributeType': 'timestamp'},\n",
       "   {'AttributeName': 'item_id', 'AttributeType': 'string'},\n",
       "   {'AttributeName': 'demand', 'AttributeType': 'integer'}]},\n",
       " 'EncryptionConfig': {},\n",
       " 'Status': 'ACTIVE',\n",
       " 'CreationTime': datetime.datetime(2020, 11, 2, 14, 36, 25, 922000, tzinfo=tzlocal()),\n",
       " 'LastModificationTime': datetime.datetime(2020, 11, 2, 14, 36, 25, 922000, tzinfo=tzlocal()),\n",
       " 'ResponseMetadata': {'RequestId': '5e95a613-a87a-40d6-803d-e4f7ff00bd30',\n",
       "  'HTTPStatusCode': 200,\n",
       "  'HTTPHeaders': {'content-type': 'application/x-amz-json-1.1',\n",
       "   'date': 'Mon, 02 Nov 2020 14:36:25 GMT',\n",
       "   'x-amzn-requestid': '5e95a613-a87a-40d6-803d-e4f7ff00bd30',\n",
       "   'content-length': '497',\n",
       "   'connection': 'keep-alive'},\n",
       "  'RetryAttempts': 0}}"
      ]
     },
     "execution_count": 42,
     "metadata": {},
     "output_type": "execute_result"
    }
   ],
   "source": [
    "target_datasetArn = response['DatasetArn']\n",
    "forecast.describe_dataset(DatasetArn=target_datasetArn)"
   ]
  },
  {
   "cell_type": "markdown",
   "metadata": {},
   "source": [
    "## 2b. Target Time Series Dataset Import"
   ]
  },
  {
   "cell_type": "code",
   "execution_count": 43,
   "metadata": {},
   "outputs": [
    {
     "name": "stdout",
     "output_type": "stream",
     "text": [
      "us-east-1\n",
      "889750940888-forecastpoc\n"
     ]
    }
   ],
   "source": [
    "# Create S3 Bucket\n",
    "# {Account Number}-forecastpoc\n",
    "\n",
    "print(region)\n",
    "s3 = boto3.client('s3')\n",
    "account_id = boto3.client('sts').get_caller_identity().get('Account')\n",
    "bucket_name = account_id + \"-forecastpoc\"\n",
    "print(bucket_name)\n",
    "s3.create_bucket(Bucket=bucket_name)\n",
    "if region != \"us-east-1\":\n",
    "    s3.create_bucket(Bucket=bucket_name, CreateBucketConfiguration={'LocationConstraint': region})\n",
    "else:\n",
    "    s3.create_bucket(Bucket=bucket_name)"
   ]
  },
  {
   "cell_type": "code",
   "execution_count": 44,
   "metadata": {},
   "outputs": [],
   "source": [
    "# Upload Target File\n",
    "\n",
    "bucket_name = bucket_name\n",
    "role_arn = role_arn\n",
    "\n",
    "s3_path = \"walmart\"\n",
    "\n",
    "s3_target     = \"s3://\" + bucket_name + \"/\" + s3_path + \"/\" + target_file_name\n",
    "s3_related    = \"s3://\" + bucket_name + \"/\" + s3_path + \"/\" + related_file_name\n",
    "s3_item       = \"s3://\" + bucket_name + \"/\" + s3_path + \"/\" + item_file_name\n",
    "\n",
    "boto3.Session().resource('s3').Bucket(bucket_name).Object(s3_path + \"/\" + target_file_name).upload_file(local_target)"
   ]
  },
  {
   "cell_type": "code",
   "execution_count": 46,
   "metadata": {},
   "outputs": [],
   "source": [
    "# Finally we can call import the dataset\n",
    "role_arn = role_arn #ForecastRolePOC\n",
    "datasetImportJobName = 'DSIMPORT_JOB_TARGET_POC'\n",
    "ds_import_job_response=forecast.create_dataset_import_job(DatasetImportJobName=datasetImportJobName,\n",
    "                                                          DatasetArn=target_datasetArn,\n",
    "                                                          DataSource= {\n",
    "                                                              \"S3Config\" : {\n",
    "                                                                 \"Path\":s3_target,\n",
    "                                                                 \"RoleArn\": role_arn\n",
    "                                                              } \n",
    "                                                          },\n",
    "                                                          TimestampFormat=TIMESTAMP_FORMAT\n",
    "                                                         )"
   ]
  },
  {
   "cell_type": "code",
   "execution_count": 47,
   "metadata": {},
   "outputs": [
    {
     "name": "stdout",
     "output_type": "stream",
     "text": [
      "arn:aws:forecast:us-east-1:889750940888:dataset-import-job/walmart_m5_ds_target/DSIMPORT_JOB_TARGET_POC\n"
     ]
    }
   ],
   "source": [
    "ds_import_job_arn=ds_import_job_response['DatasetImportJobArn']\n",
    "print(ds_import_job_arn)"
   ]
  },
  {
   "cell_type": "code",
   "execution_count": 48,
   "metadata": {},
   "outputs": [],
   "source": [
    "#while True:\n",
    "#    dataImportStatus = forecast.describe_dataset_import_job(DatasetImportJobArn=ds_import_job_arn)['Status']\n",
    "#    print(dataImportStatus)\n",
    "#    if dataImportStatus != 'ACTIVE' and dataImportStatus != 'CREATE_FAILED':\n",
    "#        sleep(30)\n",
    "#    else:\n",
    "#        break"
   ]
  },
  {
   "cell_type": "code",
   "execution_count": 49,
   "metadata": {},
   "outputs": [],
   "source": [
    "# 방금 만든 dataset을 dataset group에 attach한다.\n",
    "# attach하지 않으면 Forecast dataset group의 dataset가 조회되지 않는다.\n",
    "#response = forecast.update_dataset_group(\n",
    "#    DatasetGroupArn=datasetGroupArn,\n",
    "#    DatasetArns=[\n",
    "#        target_datasetArn\n",
    "#    ]\n",
    "#)"
   ]
  },
  {
   "cell_type": "markdown",
   "metadata": {},
   "source": [
    "## 2c. Related Time Series dataset 생성\n",
    "\n",
    "Related Time Series 고려사항 : https://docs.aws.amazon.com/ko_kr/forecast/latest/dg/related-time-series-datasets.html\n",
    "\n",
    "<img src=\"../img/related-ts.png\" align=\"left\">\n"
   ]
  },
  {
   "cell_type": "code",
   "execution_count": 50,
   "metadata": {},
   "outputs": [],
   "source": [
    "# Upload Related File\n",
    "boto3.Session().resource('s3').Bucket(bucket_name).Object(s3_path + \"/\" + related_file_name).upload_file(local_related)"
   ]
  },
  {
   "cell_type": "code",
   "execution_count": 51,
   "metadata": {},
   "outputs": [
    {
     "name": "stdout",
     "output_type": "stream",
     "text": [
      "<class 'pandas.core.frame.DataFrame'>\n",
      "DatetimeIndex: 145800 entries, 2014-01-01 to 2015-12-30\n",
      "Data columns (total 11 columns):\n",
      " #   Column         Non-Null Count   Dtype  \n",
      "---  ------         --------------   -----  \n",
      " 0   id             145800 non-null  object \n",
      " 1   snap_CA        145800 non-null  int64  \n",
      " 2   snap_TX        145800 non-null  int64  \n",
      " 3   snap_WI        145800 non-null  int64  \n",
      " 4   sell_price     145800 non-null  float64\n",
      " 5   black_friday   145800 non-null  int64  \n",
      " 6   Easter         145800 non-null  uint8  \n",
      " 7   LaborDay       145800 non-null  uint8  \n",
      " 8   Purim End      145800 non-null  uint8  \n",
      " 9   StPatricksDay  145800 non-null  uint8  \n",
      " 10  SuperBowl      145800 non-null  uint8  \n",
      "dtypes: float64(1), int64(4), object(1), uint8(5)\n",
      "memory usage: 8.5+ MB\n"
     ]
    }
   ],
   "source": [
    "df_related.info()"
   ]
  },
  {
   "cell_type": "code",
   "execution_count": 52,
   "metadata": {},
   "outputs": [],
   "source": [
    "# Specify the schema of your dataset here. Make sure the order of columns matches the raw data files.\n",
    "related_schema ={\n",
    "   \"Attributes\":[\n",
    "      {\n",
    "         \"AttributeName\":\"timestamp\",\n",
    "         \"AttributeType\":\"timestamp\"\n",
    "      },\n",
    "      {\n",
    "         \"AttributeName\":\"item_id\",\n",
    "         \"AttributeType\":\"string\"\n",
    "      },\n",
    "       {\n",
    "         \"AttributeName\":\"snap_CA\",\n",
    "         \"AttributeType\":\"integer\"\n",
    "      },\n",
    "       {\n",
    "         \"AttributeName\":\"snap_TX\",\n",
    "         \"AttributeType\":\"integer\"\n",
    "      },\n",
    "       {\n",
    "         \"AttributeName\":\"snap_WI\",\n",
    "         \"AttributeType\":\"integer\"\n",
    "      },\n",
    "       {\n",
    "         \"AttributeName\":\"sell_price\",\n",
    "         \"AttributeType\":\"float\"\n",
    "      },\n",
    "       {\n",
    "         \"AttributeName\":\"black_friday\",\n",
    "         \"AttributeType\":\"integer\"\n",
    "      },\n",
    "       {\n",
    "         \"AttributeName\":\"Easter\",\n",
    "         \"AttributeType\":\"integer\"\n",
    "      },\n",
    "       {\n",
    "         \"AttributeName\":\"LaborDay\",\n",
    "         \"AttributeType\":\"integer\"\n",
    "      },\n",
    "       {\n",
    "         \"AttributeName\":\"Purim_End\",\n",
    "         \"AttributeType\":\"integer\"\n",
    "      },\n",
    "       {\n",
    "         \"AttributeName\":\"StPatricksDay\",\n",
    "         \"AttributeType\":\"integer\"\n",
    "      },\n",
    "       {\n",
    "         \"AttributeName\":\"SuperBowl\",\n",
    "         \"AttributeType\":\"integer\"\n",
    "      }\n",
    "   ]\n",
    "}"
   ]
  },
  {
   "cell_type": "code",
   "execution_count": 53,
   "metadata": {},
   "outputs": [],
   "source": [
    "related_DSN = datasetName + \"_related\"\n",
    "response=forecast.create_dataset(\n",
    "                    Domain=\"RETAIL\",\n",
    "                    DatasetType='RELATED_TIME_SERIES',\n",
    "                    DatasetName=related_DSN,\n",
    "                    DataFrequency=DATASET_FREQUENCY, \n",
    "                    Schema = related_schema\n",
    ")"
   ]
  },
  {
   "cell_type": "code",
   "execution_count": 54,
   "metadata": {},
   "outputs": [
    {
     "name": "stdout",
     "output_type": "stream",
     "text": [
      "arn:aws:forecast:us-east-1:889750940888:dataset/walmart_m5_ds_related\n"
     ]
    },
    {
     "data": {
      "text/plain": [
       "{'DatasetArn': 'arn:aws:forecast:us-east-1:889750940888:dataset/walmart_m5_ds_related',\n",
       " 'DatasetName': 'walmart_m5_ds_related',\n",
       " 'Domain': 'RETAIL',\n",
       " 'DatasetType': 'RELATED_TIME_SERIES',\n",
       " 'DataFrequency': 'D',\n",
       " 'Schema': {'Attributes': [{'AttributeName': 'timestamp',\n",
       "    'AttributeType': 'timestamp'},\n",
       "   {'AttributeName': 'item_id', 'AttributeType': 'string'},\n",
       "   {'AttributeName': 'snap_CA', 'AttributeType': 'integer'},\n",
       "   {'AttributeName': 'snap_TX', 'AttributeType': 'integer'},\n",
       "   {'AttributeName': 'snap_WI', 'AttributeType': 'integer'},\n",
       "   {'AttributeName': 'sell_price', 'AttributeType': 'float'},\n",
       "   {'AttributeName': 'black_friday', 'AttributeType': 'integer'},\n",
       "   {'AttributeName': 'Easter', 'AttributeType': 'integer'},\n",
       "   {'AttributeName': 'LaborDay', 'AttributeType': 'integer'},\n",
       "   {'AttributeName': 'Purim_End', 'AttributeType': 'integer'},\n",
       "   {'AttributeName': 'StPatricksDay', 'AttributeType': 'integer'},\n",
       "   {'AttributeName': 'SuperBowl', 'AttributeType': 'integer'}]},\n",
       " 'EncryptionConfig': {},\n",
       " 'Status': 'ACTIVE',\n",
       " 'CreationTime': datetime.datetime(2020, 11, 2, 14, 41, 41, 582000, tzinfo=tzlocal()),\n",
       " 'LastModificationTime': datetime.datetime(2020, 11, 2, 14, 41, 41, 582000, tzinfo=tzlocal()),\n",
       " 'ResponseMetadata': {'RequestId': '9e04a11f-dc58-47b7-af8c-a5c36a7bc32a',\n",
       "  'HTTPStatusCode': 200,\n",
       "  'HTTPHeaders': {'content-type': 'application/x-amz-json-1.1',\n",
       "   'date': 'Mon, 02 Nov 2020 14:41:41 GMT',\n",
       "   'x-amzn-requestid': '9e04a11f-dc58-47b7-af8c-a5c36a7bc32a',\n",
       "   'content-length': '1003',\n",
       "   'connection': 'keep-alive'},\n",
       "  'RetryAttempts': 0}}"
      ]
     },
     "execution_count": 54,
     "metadata": {},
     "output_type": "execute_result"
    }
   ],
   "source": [
    "related_datasetArn = response['DatasetArn']\n",
    "print(related_datasetArn)\n",
    "forecast.describe_dataset(DatasetArn=related_datasetArn)"
   ]
  },
  {
   "cell_type": "markdown",
   "metadata": {},
   "source": [
    "## 2d. Related Time Series Dataset Import"
   ]
  },
  {
   "cell_type": "code",
   "execution_count": 55,
   "metadata": {},
   "outputs": [],
   "source": [
    "datasetImportJobName = 'DSIMPORT_JOB_RELATEDPOC'\n",
    "related_ds_import_job_response=forecast.create_dataset_import_job(DatasetImportJobName=datasetImportJobName,\n",
    "                                                          DatasetArn=related_datasetArn,\n",
    "                                                          DataSource= {\n",
    "                                                              \"S3Config\" : {\n",
    "                                                                 \"Path\":s3_related,\n",
    "                                                                 \"RoleArn\": role_arn\n",
    "                                                              } \n",
    "                                                          },\n",
    "                                                          TimestampFormat=TIMESTAMP_FORMAT\n",
    "                                                         )"
   ]
  },
  {
   "cell_type": "code",
   "execution_count": 56,
   "metadata": {},
   "outputs": [
    {
     "name": "stdout",
     "output_type": "stream",
     "text": [
      "arn:aws:forecast:us-east-1:889750940888:dataset-import-job/walmart_m5_ds_related/DSIMPORT_JOB_RELATEDPOC\n"
     ]
    }
   ],
   "source": [
    "rel_ds_import_job_arn=related_ds_import_job_response['DatasetImportJobArn']\n",
    "print(rel_ds_import_job_arn)"
   ]
  },
  {
   "cell_type": "markdown",
   "metadata": {},
   "source": [
    "## 2e. Item Metadata 생성"
   ]
  },
  {
   "cell_type": "code",
   "execution_count": 57,
   "metadata": {},
   "outputs": [],
   "source": [
    "# Upload Item Metadata File\n",
    "boto3.Session().resource('s3').Bucket(bucket_name).Object(s3_path + \"/\" + item_file_name).upload_file(local_item)"
   ]
  },
  {
   "cell_type": "code",
   "execution_count": 58,
   "metadata": {},
   "outputs": [
    {
     "name": "stdout",
     "output_type": "stream",
     "text": [
      "<class 'pandas.core.frame.DataFrame'>\n",
      "DatetimeIndex: 200 entries, 2011-01-29 to 2011-01-29\n",
      "Data columns (total 6 columns):\n",
      " #   Column    Non-Null Count  Dtype \n",
      "---  ------    --------------  ----- \n",
      " 0   id        200 non-null    object\n",
      " 1   item_id   200 non-null    object\n",
      " 2   dept_id   200 non-null    object\n",
      " 3   cat_id    200 non-null    object\n",
      " 4   store_id  200 non-null    object\n",
      " 5   state_id  200 non-null    object\n",
      "dtypes: object(6)\n",
      "memory usage: 10.9+ KB\n"
     ]
    }
   ],
   "source": [
    "df_item.info()"
   ]
  },
  {
   "cell_type": "code",
   "execution_count": 59,
   "metadata": {},
   "outputs": [],
   "source": [
    "item_schema ={\n",
    "   \"Attributes\":[\n",
    "      {\n",
    "         \"AttributeName\":\"item_id\",\n",
    "         \"AttributeType\":\"string\"\n",
    "      },\n",
    "       {\n",
    "         \"AttributeName\":\"item_id_not_combined\",\n",
    "         \"AttributeType\":\"string\"\n",
    "      },\n",
    "       {\n",
    "         \"AttributeName\":\"dept_id\",\n",
    "         \"AttributeType\":\"string\"\n",
    "      },\n",
    "       {\n",
    "         \"AttributeName\":\"cat_id\",\n",
    "         \"AttributeType\":\"string\"\n",
    "      },\n",
    "       {\n",
    "         \"AttributeName\":\"store_id\",\n",
    "         \"AttributeType\":\"string\"\n",
    "      },\n",
    "       {\n",
    "         \"AttributeName\":\"state_id\",\n",
    "         \"AttributeType\":\"string\"\n",
    "      }\n",
    "   ]\n",
    "}"
   ]
  },
  {
   "cell_type": "code",
   "execution_count": 60,
   "metadata": {},
   "outputs": [],
   "source": [
    "item_DSN = datasetName + \"_item\"\n",
    "response=forecast.create_dataset(\n",
    "                    Domain=\"RETAIL\",\n",
    "                    DatasetType='ITEM_METADATA',\n",
    "                    DatasetName=item_DSN,\n",
    "                    Schema = item_schema\n",
    ")"
   ]
  },
  {
   "cell_type": "code",
   "execution_count": 61,
   "metadata": {},
   "outputs": [
    {
     "name": "stdout",
     "output_type": "stream",
     "text": [
      "arn:aws:forecast:us-east-1:889750940888:dataset/walmart_m5_ds_item\n"
     ]
    },
    {
     "data": {
      "text/plain": [
       "{'DatasetArn': 'arn:aws:forecast:us-east-1:889750940888:dataset/walmart_m5_ds_item',\n",
       " 'DatasetName': 'walmart_m5_ds_item',\n",
       " 'Domain': 'RETAIL',\n",
       " 'DatasetType': 'ITEM_METADATA',\n",
       " 'Schema': {'Attributes': [{'AttributeName': 'item_id',\n",
       "    'AttributeType': 'string'},\n",
       "   {'AttributeName': 'item_id_not_combined', 'AttributeType': 'string'},\n",
       "   {'AttributeName': 'dept_id', 'AttributeType': 'string'},\n",
       "   {'AttributeName': 'cat_id', 'AttributeType': 'string'},\n",
       "   {'AttributeName': 'store_id', 'AttributeType': 'string'},\n",
       "   {'AttributeName': 'state_id', 'AttributeType': 'string'}]},\n",
       " 'EncryptionConfig': {},\n",
       " 'Status': 'ACTIVE',\n",
       " 'CreationTime': datetime.datetime(2020, 11, 2, 14, 41, 48, 220000, tzinfo=tzlocal()),\n",
       " 'LastModificationTime': datetime.datetime(2020, 11, 2, 14, 41, 48, 220000, tzinfo=tzlocal()),\n",
       " 'ResponseMetadata': {'RequestId': '35d33e64-fb9d-46ef-b841-6ec1880ac1b4',\n",
       "  'HTTPStatusCode': 200,\n",
       "  'HTTPHeaders': {'content-type': 'application/x-amz-json-1.1',\n",
       "   'date': 'Mon, 02 Nov 2020 14:41:49 GMT',\n",
       "   'x-amzn-requestid': '35d33e64-fb9d-46ef-b841-6ec1880ac1b4',\n",
       "   'content-length': '634',\n",
       "   'connection': 'keep-alive'},\n",
       "  'RetryAttempts': 0}}"
      ]
     },
     "execution_count": 61,
     "metadata": {},
     "output_type": "execute_result"
    }
   ],
   "source": [
    "item_datasetArn = response['DatasetArn']\n",
    "print(item_datasetArn)\n",
    "forecast.describe_dataset(DatasetArn=item_datasetArn)"
   ]
  },
  {
   "cell_type": "markdown",
   "metadata": {},
   "source": [
    "## 2f. Item Metadata Dataset Import"
   ]
  },
  {
   "cell_type": "code",
   "execution_count": 62,
   "metadata": {},
   "outputs": [],
   "source": [
    "datasetImportJobName = 'DSIMPORT_JOB_ITEMPOC'\n",
    "item_ds_import_job_response=forecast.create_dataset_import_job(DatasetImportJobName=datasetImportJobName,\n",
    "                                                          DatasetArn=item_datasetArn,\n",
    "                                                          DataSource= {\n",
    "                                                              \"S3Config\" : {\n",
    "                                                                 \"Path\":s3_item,\n",
    "                                                                 \"RoleArn\": role_arn\n",
    "                                                              } \n",
    "                                                          }\n",
    "                                                         )"
   ]
  },
  {
   "cell_type": "code",
   "execution_count": 63,
   "metadata": {},
   "outputs": [
    {
     "name": "stdout",
     "output_type": "stream",
     "text": [
      "arn:aws:forecast:us-east-1:889750940888:dataset-import-job/walmart_m5_ds_item/DSIMPORT_JOB_ITEMPOC\n"
     ]
    }
   ],
   "source": [
    "item_ds_import_job_arn=item_ds_import_job_response['DatasetImportJobArn']\n",
    "print(item_ds_import_job_arn)"
   ]
  },
  {
   "cell_type": "markdown",
   "metadata": {},
   "source": [
    "## 2g. Check Dataset Import Status (5~10분 소요)"
   ]
  },
  {
   "cell_type": "code",
   "execution_count": 64,
   "metadata": {},
   "outputs": [
    {
     "name": "stdout",
     "output_type": "stream",
     "text": [
      "Dataset arn:aws:forecast:us-east-1:889750940888:dataset/walmart_m5_ds_target status : CREATE_PENDING\n",
      "Dataset arn:aws:forecast:us-east-1:889750940888:dataset/walmart_m5_ds_related status : CREATE_PENDING\n",
      "Dataset arn:aws:forecast:us-east-1:889750940888:dataset/walmart_m5_ds_item status : CREATE_PENDING\n",
      "--------------------------------------------------------------------\n",
      "Dataset arn:aws:forecast:us-east-1:889750940888:dataset/walmart_m5_ds_target status : CREATE_IN_PROGRESS\n",
      "Dataset arn:aws:forecast:us-east-1:889750940888:dataset/walmart_m5_ds_related status : CREATE_IN_PROGRESS\n",
      "Dataset arn:aws:forecast:us-east-1:889750940888:dataset/walmart_m5_ds_item status : CREATE_IN_PROGRESS\n",
      "--------------------------------------------------------------------\n",
      "Dataset arn:aws:forecast:us-east-1:889750940888:dataset/walmart_m5_ds_target status : CREATE_IN_PROGRESS\n",
      "Dataset arn:aws:forecast:us-east-1:889750940888:dataset/walmart_m5_ds_related status : CREATE_IN_PROGRESS\n",
      "Dataset arn:aws:forecast:us-east-1:889750940888:dataset/walmart_m5_ds_item status : CREATE_IN_PROGRESS\n",
      "--------------------------------------------------------------------\n",
      "Dataset arn:aws:forecast:us-east-1:889750940888:dataset/walmart_m5_ds_target status : CREATE_IN_PROGRESS\n",
      "Dataset arn:aws:forecast:us-east-1:889750940888:dataset/walmart_m5_ds_related status : CREATE_IN_PROGRESS\n",
      "Dataset arn:aws:forecast:us-east-1:889750940888:dataset/walmart_m5_ds_item status : CREATE_IN_PROGRESS\n",
      "--------------------------------------------------------------------\n",
      "Dataset arn:aws:forecast:us-east-1:889750940888:dataset/walmart_m5_ds_target status : CREATE_IN_PROGRESS\n",
      "Dataset arn:aws:forecast:us-east-1:889750940888:dataset/walmart_m5_ds_related status : CREATE_IN_PROGRESS\n",
      "Dataset arn:aws:forecast:us-east-1:889750940888:dataset/walmart_m5_ds_item status : CREATE_IN_PROGRESS\n",
      "--------------------------------------------------------------------\n",
      "Dataset arn:aws:forecast:us-east-1:889750940888:dataset/walmart_m5_ds_target status : CREATE_IN_PROGRESS\n",
      "Dataset arn:aws:forecast:us-east-1:889750940888:dataset/walmart_m5_ds_related status : CREATE_IN_PROGRESS\n",
      "Dataset arn:aws:forecast:us-east-1:889750940888:dataset/walmart_m5_ds_item status : CREATE_IN_PROGRESS\n",
      "--------------------------------------------------------------------\n",
      "Dataset arn:aws:forecast:us-east-1:889750940888:dataset/walmart_m5_ds_target status : CREATE_IN_PROGRESS\n",
      "Dataset arn:aws:forecast:us-east-1:889750940888:dataset/walmart_m5_ds_related status : CREATE_IN_PROGRESS\n",
      "Dataset arn:aws:forecast:us-east-1:889750940888:dataset/walmart_m5_ds_item status : CREATE_IN_PROGRESS\n",
      "--------------------------------------------------------------------\n",
      "Dataset arn:aws:forecast:us-east-1:889750940888:dataset/walmart_m5_ds_target status : CREATE_IN_PROGRESS\n",
      "Dataset arn:aws:forecast:us-east-1:889750940888:dataset/walmart_m5_ds_related status : CREATE_IN_PROGRESS\n",
      "Dataset arn:aws:forecast:us-east-1:889750940888:dataset/walmart_m5_ds_item status : CREATE_IN_PROGRESS\n",
      "--------------------------------------------------------------------\n",
      "Dataset arn:aws:forecast:us-east-1:889750940888:dataset/walmart_m5_ds_target status : CREATE_IN_PROGRESS\n",
      "Dataset arn:aws:forecast:us-east-1:889750940888:dataset/walmart_m5_ds_related status : CREATE_IN_PROGRESS\n",
      "Dataset arn:aws:forecast:us-east-1:889750940888:dataset/walmart_m5_ds_item status : CREATE_IN_PROGRESS\n",
      "--------------------------------------------------------------------\n",
      "Dataset arn:aws:forecast:us-east-1:889750940888:dataset/walmart_m5_ds_target status : CREATE_IN_PROGRESS\n",
      "Dataset arn:aws:forecast:us-east-1:889750940888:dataset/walmart_m5_ds_related status : CREATE_IN_PROGRESS\n",
      "Dataset arn:aws:forecast:us-east-1:889750940888:dataset/walmart_m5_ds_item status : CREATE_IN_PROGRESS\n",
      "--------------------------------------------------------------------\n",
      "Dataset arn:aws:forecast:us-east-1:889750940888:dataset/walmart_m5_ds_target status : CREATE_IN_PROGRESS\n",
      "Dataset arn:aws:forecast:us-east-1:889750940888:dataset/walmart_m5_ds_related status : CREATE_IN_PROGRESS\n",
      "Dataset arn:aws:forecast:us-east-1:889750940888:dataset/walmart_m5_ds_item status : CREATE_IN_PROGRESS\n",
      "--------------------------------------------------------------------\n",
      "Dataset arn:aws:forecast:us-east-1:889750940888:dataset/walmart_m5_ds_target status : CREATE_IN_PROGRESS\n",
      "Dataset arn:aws:forecast:us-east-1:889750940888:dataset/walmart_m5_ds_related status : CREATE_IN_PROGRESS\n",
      "Dataset arn:aws:forecast:us-east-1:889750940888:dataset/walmart_m5_ds_item status : CREATE_IN_PROGRESS\n",
      "--------------------------------------------------------------------\n",
      "Dataset arn:aws:forecast:us-east-1:889750940888:dataset/walmart_m5_ds_target status : CREATE_IN_PROGRESS\n",
      "Dataset arn:aws:forecast:us-east-1:889750940888:dataset/walmart_m5_ds_related status : CREATE_IN_PROGRESS\n",
      "Dataset arn:aws:forecast:us-east-1:889750940888:dataset/walmart_m5_ds_item status : CREATE_IN_PROGRESS\n",
      "--------------------------------------------------------------------\n",
      "Dataset arn:aws:forecast:us-east-1:889750940888:dataset/walmart_m5_ds_target status : CREATE_IN_PROGRESS\n",
      "Dataset arn:aws:forecast:us-east-1:889750940888:dataset/walmart_m5_ds_related status : CREATE_IN_PROGRESS\n",
      "Dataset arn:aws:forecast:us-east-1:889750940888:dataset/walmart_m5_ds_item status : CREATE_IN_PROGRESS\n",
      "--------------------------------------------------------------------\n",
      "Dataset arn:aws:forecast:us-east-1:889750940888:dataset/walmart_m5_ds_target status : CREATE_IN_PROGRESS\n",
      "Dataset arn:aws:forecast:us-east-1:889750940888:dataset/walmart_m5_ds_related status : CREATE_IN_PROGRESS\n",
      "Dataset arn:aws:forecast:us-east-1:889750940888:dataset/walmart_m5_ds_item status : CREATE_IN_PROGRESS\n",
      "--------------------------------------------------------------------\n",
      "Dataset arn:aws:forecast:us-east-1:889750940888:dataset/walmart_m5_ds_target status : CREATE_IN_PROGRESS\n",
      "Dataset arn:aws:forecast:us-east-1:889750940888:dataset/walmart_m5_ds_related status : CREATE_IN_PROGRESS\n",
      "Dataset arn:aws:forecast:us-east-1:889750940888:dataset/walmart_m5_ds_item status : CREATE_IN_PROGRESS\n",
      "--------------------------------------------------------------------\n",
      "Dataset arn:aws:forecast:us-east-1:889750940888:dataset/walmart_m5_ds_target status : ACTIVE\n",
      "Dataset arn:aws:forecast:us-east-1:889750940888:dataset/walmart_m5_ds_related status : CREATE_IN_PROGRESS\n",
      "Dataset arn:aws:forecast:us-east-1:889750940888:dataset/walmart_m5_ds_item status : CREATE_IN_PROGRESS\n",
      "--------------------------------------------------------------------\n",
      "Dataset arn:aws:forecast:us-east-1:889750940888:dataset/walmart_m5_ds_target status : ACTIVE\n",
      "Dataset arn:aws:forecast:us-east-1:889750940888:dataset/walmart_m5_ds_related status : CREATE_IN_PROGRESS\n",
      "Dataset arn:aws:forecast:us-east-1:889750940888:dataset/walmart_m5_ds_item status : CREATE_IN_PROGRESS\n",
      "--------------------------------------------------------------------\n",
      "Dataset arn:aws:forecast:us-east-1:889750940888:dataset/walmart_m5_ds_target status : ACTIVE\n",
      "Dataset arn:aws:forecast:us-east-1:889750940888:dataset/walmart_m5_ds_related status : ACTIVE\n",
      "Dataset arn:aws:forecast:us-east-1:889750940888:dataset/walmart_m5_ds_item status : CREATE_IN_PROGRESS\n",
      "--------------------------------------------------------------------\n",
      "Dataset arn:aws:forecast:us-east-1:889750940888:dataset/walmart_m5_ds_target status : ACTIVE\n",
      "Dataset arn:aws:forecast:us-east-1:889750940888:dataset/walmart_m5_ds_related status : ACTIVE\n",
      "Dataset arn:aws:forecast:us-east-1:889750940888:dataset/walmart_m5_ds_item status : CREATE_IN_PROGRESS\n",
      "--------------------------------------------------------------------\n",
      "Dataset arn:aws:forecast:us-east-1:889750940888:dataset/walmart_m5_ds_target status : ACTIVE\n",
      "Dataset arn:aws:forecast:us-east-1:889750940888:dataset/walmart_m5_ds_related status : ACTIVE\n",
      "Dataset arn:aws:forecast:us-east-1:889750940888:dataset/walmart_m5_ds_item status : CREATE_IN_PROGRESS\n",
      "--------------------------------------------------------------------\n",
      "Dataset arn:aws:forecast:us-east-1:889750940888:dataset/walmart_m5_ds_target status : ACTIVE\n",
      "Dataset arn:aws:forecast:us-east-1:889750940888:dataset/walmart_m5_ds_related status : ACTIVE\n",
      "Dataset arn:aws:forecast:us-east-1:889750940888:dataset/walmart_m5_ds_item status : CREATE_IN_PROGRESS\n",
      "--------------------------------------------------------------------\n",
      "Dataset arn:aws:forecast:us-east-1:889750940888:dataset/walmart_m5_ds_target status : ACTIVE\n",
      "Dataset arn:aws:forecast:us-east-1:889750940888:dataset/walmart_m5_ds_related status : ACTIVE\n",
      "Dataset arn:aws:forecast:us-east-1:889750940888:dataset/walmart_m5_ds_item status : CREATE_IN_PROGRESS\n",
      "--------------------------------------------------------------------\n",
      "Dataset arn:aws:forecast:us-east-1:889750940888:dataset/walmart_m5_ds_target status : ACTIVE\n",
      "Dataset arn:aws:forecast:us-east-1:889750940888:dataset/walmart_m5_ds_related status : ACTIVE\n",
      "Dataset arn:aws:forecast:us-east-1:889750940888:dataset/walmart_m5_ds_item status : CREATE_IN_PROGRESS\n",
      "--------------------------------------------------------------------\n",
      "Dataset arn:aws:forecast:us-east-1:889750940888:dataset/walmart_m5_ds_target status : ACTIVE\n",
      "Dataset arn:aws:forecast:us-east-1:889750940888:dataset/walmart_m5_ds_related status : ACTIVE\n",
      "Dataset arn:aws:forecast:us-east-1:889750940888:dataset/walmart_m5_ds_item status : CREATE_IN_PROGRESS\n",
      "--------------------------------------------------------------------\n",
      "Dataset arn:aws:forecast:us-east-1:889750940888:dataset/walmart_m5_ds_target status : ACTIVE\n",
      "Dataset arn:aws:forecast:us-east-1:889750940888:dataset/walmart_m5_ds_related status : ACTIVE\n",
      "Dataset arn:aws:forecast:us-east-1:889750940888:dataset/walmart_m5_ds_item status : CREATE_IN_PROGRESS\n",
      "--------------------------------------------------------------------\n",
      "Dataset arn:aws:forecast:us-east-1:889750940888:dataset/walmart_m5_ds_target status : ACTIVE\n",
      "Dataset arn:aws:forecast:us-east-1:889750940888:dataset/walmart_m5_ds_related status : ACTIVE\n",
      "Dataset arn:aws:forecast:us-east-1:889750940888:dataset/walmart_m5_ds_item status : CREATE_IN_PROGRESS\n",
      "--------------------------------------------------------------------\n",
      "Dataset arn:aws:forecast:us-east-1:889750940888:dataset/walmart_m5_ds_target status : ACTIVE\n",
      "Dataset arn:aws:forecast:us-east-1:889750940888:dataset/walmart_m5_ds_related status : ACTIVE\n",
      "Dataset arn:aws:forecast:us-east-1:889750940888:dataset/walmart_m5_ds_item status : CREATE_IN_PROGRESS\n",
      "--------------------------------------------------------------------\n",
      "Dataset arn:aws:forecast:us-east-1:889750940888:dataset/walmart_m5_ds_target status : ACTIVE\n",
      "Dataset arn:aws:forecast:us-east-1:889750940888:dataset/walmart_m5_ds_related status : ACTIVE\n",
      "Dataset arn:aws:forecast:us-east-1:889750940888:dataset/walmart_m5_ds_item status : ACTIVE\n",
      "--------------------------------------------------------------------\n",
      "작업 수행된 시간 : 850.520123 초\n"
     ]
    }
   ],
   "source": [
    "import time \n",
    "\n",
    "start_time = time.time()\n",
    "\n",
    "while True:\n",
    "    TargetdataImportStatus  = forecast.describe_dataset_import_job(DatasetImportJobArn=ds_import_job_arn)['Status']\n",
    "    RelateddataImportStatus = forecast.describe_dataset_import_job(DatasetImportJobArn=rel_ds_import_job_arn)['Status']\n",
    "    ItemdataImportStatus    = forecast.describe_dataset_import_job(DatasetImportJobArn=item_ds_import_job_arn)['Status']\n",
    "    \n",
    "    print(\"Dataset {} status : {}\".format(target_datasetArn, TargetdataImportStatus))\n",
    "    print(\"Dataset {} status : {}\".format(related_datasetArn, RelateddataImportStatus))\n",
    "    print(\"Dataset {} status : {}\".format(item_datasetArn, ItemdataImportStatus))\n",
    "    print(\"--------------------------------------------------------------------\")\n",
    "    \n",
    "    if TargetdataImportStatus != 'ACTIVE' or RelateddataImportStatus != 'ACTIVE' or ItemdataImportStatus != 'ACTIVE':\n",
    "        sleep(30)\n",
    "    else:\n",
    "        break\n",
    "print('작업 수행된 시간 : %f 초' % (time.time() - start_time))"
   ]
  },
  {
   "cell_type": "code",
   "execution_count": 65,
   "metadata": {},
   "outputs": [],
   "source": [
    "response = forecast.update_dataset_group(\n",
    "    DatasetGroupArn=datasetGroupArn,\n",
    "    DatasetArns=[\n",
    "        target_datasetArn,\n",
    "        related_datasetArn,\n",
    "        item_datasetArn\n",
    "    ]\n",
    ")"
   ]
  },
  {
   "cell_type": "markdown",
   "metadata": {},
   "source": [
    "Amazon Forecast Console에서 아래 스크린 캡쳐와 같이 3가지 Dataset이 모두 Import되었는지 확인한 후 \"3. Create Predictor\" 단계로 넘어 간다.\n",
    "Import 상태가 \"Falied\"인 경우 세부 오류 메시지를 확인한다.\n",
    "\n",
    "<img src=\"../img/datasets.png\" align=\"left\">"
   ]
  },
  {
   "cell_type": "markdown",
   "metadata": {},
   "source": [
    "# 3. Create Predictor (30분 ~ 40분 소요)\n"
   ]
  },
  {
   "cell_type": "code",
   "execution_count": 66,
   "metadata": {},
   "outputs": [],
   "source": [
    "forecastHorizon = 30 # 30 days\n",
    "NumberOfBacktestWindows = 4\n",
    "BackTestWindowOffset = 30\n",
    "ForecastFrequency = \"D\""
   ]
  },
  {
   "cell_type": "code",
   "execution_count": 67,
   "metadata": {},
   "outputs": [],
   "source": [
    "prophet_algorithmArn = 'arn:aws:forecast:::algorithm/Prophet'\n",
    "deepAR_Plus_algorithmArn = 'arn:aws:forecast:::algorithm/Deep_AR_Plus'"
   ]
  },
  {
   "cell_type": "markdown",
   "metadata": {},
   "source": [
    "## 3a. Prophet"
   ]
  },
  {
   "cell_type": "code",
   "execution_count": 68,
   "metadata": {},
   "outputs": [],
   "source": [
    "# Prophet Specifics\n",
    "prophet_predictorName= project+'_prophet_algo_1'"
   ]
  },
  {
   "cell_type": "code",
   "execution_count": 69,
   "metadata": {},
   "outputs": [],
   "source": [
    "# Build Prophet:\n",
    "prophet_create_predictor_response=forecast.create_predictor(PredictorName=prophet_predictorName, \n",
    "                                                  AlgorithmArn=prophet_algorithmArn,\n",
    "                                                  ForecastHorizon=forecastHorizon,\n",
    "                                                  PerformAutoML= False,\n",
    "                                                  PerformHPO=False,\n",
    "                                                  EvaluationParameters= {\"NumberOfBacktestWindows\": NumberOfBacktestWindows, \n",
    "                                                                         \"BackTestWindowOffset\": BackTestWindowOffset}, \n",
    "                                                  InputDataConfig= {\"DatasetGroupArn\": datasetGroupArn, \"SupplementaryFeatures\": [ \n",
    "                                                                     { \n",
    "                                                                        \"Name\": \"holiday\",\n",
    "                                                                        \"Value\": \"US\"\n",
    "                                                                     }\n",
    "                                                                  ]},\n",
    "                                                  FeaturizationConfig= {\"ForecastFrequency\": ForecastFrequency, \n",
    "                                                                        \"Featurizations\": \n",
    "                                                                        [\n",
    "                                                                          {\"AttributeName\": \"demand\", \n",
    "                                                                           \"FeaturizationPipeline\": \n",
    "                                                                            [\n",
    "                                                                              {\"FeaturizationMethodName\": \"filling\", \n",
    "                                                                               \"FeaturizationMethodParameters\": \n",
    "                                                                                {\"frontfill\": \"none\", \n",
    "                                                                                 \"middlefill\": \"zero\", \n",
    "                                                                                 \"backfill\": \"zero\"}\n",
    "                                                                              }\n",
    "                                                                            ]\n",
    "                                                                          }\n",
    "                                                                        ]\n",
    "                                                                       }\n",
    "                                                 )"
   ]
  },
  {
   "cell_type": "markdown",
   "metadata": {},
   "source": [
    "## 3b. DeepAR Plus"
   ]
  },
  {
   "cell_type": "code",
   "execution_count": 70,
   "metadata": {},
   "outputs": [],
   "source": [
    "# Prophet Specifics\n",
    "deeparplus_predictorName= project+'_deeparplus_algo_1'"
   ]
  },
  {
   "cell_type": "code",
   "execution_count": 71,
   "metadata": {},
   "outputs": [],
   "source": [
    "# Build DeepAR Plus:\n",
    "deeparplus_create_predictor_response=forecast.create_predictor(PredictorName=deeparplus_predictorName, \n",
    "                                                  AlgorithmArn=deepAR_Plus_algorithmArn,\n",
    "                                                  ForecastHorizon=forecastHorizon,\n",
    "                                                  PerformAutoML= False,\n",
    "                                                  PerformHPO=False,\n",
    "                                                  #PerformHPO=True,\n",
    "                                                  EvaluationParameters= {\"NumberOfBacktestWindows\": NumberOfBacktestWindows, \n",
    "                                                                         \"BackTestWindowOffset\": BackTestWindowOffset}, \n",
    "                                                  InputDataConfig= {\"DatasetGroupArn\": datasetGroupArn, \"SupplementaryFeatures\": [ \n",
    "                                                                     { \n",
    "                                                                        \"Name\": \"holiday\",\n",
    "                                                                        \"Value\": \"US\"\n",
    "                                                                     }\n",
    "                                                                  ]},\n",
    "                                                  FeaturizationConfig= {\"ForecastFrequency\": ForecastFrequency, \n",
    "                                                                        \"Featurizations\": \n",
    "                                                                        [\n",
    "                                                                          {\"AttributeName\": \"demand\", \n",
    "                                                                           \"FeaturizationPipeline\": \n",
    "                                                                            [\n",
    "                                                                              {\"FeaturizationMethodName\": \"filling\", \n",
    "                                                                               \"FeaturizationMethodParameters\": \n",
    "                                                                                {\"frontfill\": \"none\", \n",
    "                                                                                 \"middlefill\": \"zero\", \n",
    "                                                                                 \"backfill\": \"zero\"}\n",
    "                                                                              }\n",
    "                                                                            ]\n",
    "                                                                          }\n",
    "                                                                        ]\n",
    "                                                                       },\n",
    "                                                 TrainingParameters= { \n",
    "                                                          \"likelihood\" : \"student-t\" \n",
    "                                                       }\n",
    "                                                 )"
   ]
  },
  {
   "cell_type": "markdown",
   "metadata": {},
   "source": [
    "- 일반적으로 Prophet predictor 학습은 DeepAR+ 학습보다 빨리 끝난다."
   ]
  },
  {
   "cell_type": "markdown",
   "metadata": {},
   "source": [
    "## 3c. Check Predictor Creation Status (Be patient)"
   ]
  },
  {
   "cell_type": "code",
   "execution_count": null,
   "metadata": {},
   "outputs": [
    {
     "name": "stdout",
     "output_type": "stream",
     "text": [
      "Predictor arn:aws:forecast:us-east-1:889750940888:predictor/walmart_m5_prophet_algo_1 status : CREATE_PENDING\n",
      "Predictor arn:aws:forecast:us-east-1:889750940888:predictor/walmart_m5_deeparplus_algo_1 status : CREATE_PENDING\n",
      "--------------------------------------------------------------------\n",
      "Predictor arn:aws:forecast:us-east-1:889750940888:predictor/walmart_m5_prophet_algo_1 status : CREATE_IN_PROGRESS\n",
      "Predictor arn:aws:forecast:us-east-1:889750940888:predictor/walmart_m5_deeparplus_algo_1 status : CREATE_IN_PROGRESS\n",
      "--------------------------------------------------------------------\n",
      "Predictor arn:aws:forecast:us-east-1:889750940888:predictor/walmart_m5_prophet_algo_1 status : CREATE_IN_PROGRESS\n",
      "Predictor arn:aws:forecast:us-east-1:889750940888:predictor/walmart_m5_deeparplus_algo_1 status : CREATE_IN_PROGRESS\n",
      "--------------------------------------------------------------------\n",
      "Predictor arn:aws:forecast:us-east-1:889750940888:predictor/walmart_m5_prophet_algo_1 status : CREATE_IN_PROGRESS\n",
      "Predictor arn:aws:forecast:us-east-1:889750940888:predictor/walmart_m5_deeparplus_algo_1 status : CREATE_IN_PROGRESS\n",
      "--------------------------------------------------------------------\n",
      "Predictor arn:aws:forecast:us-east-1:889750940888:predictor/walmart_m5_prophet_algo_1 status : CREATE_IN_PROGRESS\n",
      "Predictor arn:aws:forecast:us-east-1:889750940888:predictor/walmart_m5_deeparplus_algo_1 status : CREATE_IN_PROGRESS\n",
      "--------------------------------------------------------------------\n",
      "Predictor arn:aws:forecast:us-east-1:889750940888:predictor/walmart_m5_prophet_algo_1 status : CREATE_IN_PROGRESS\n",
      "Predictor arn:aws:forecast:us-east-1:889750940888:predictor/walmart_m5_deeparplus_algo_1 status : CREATE_IN_PROGRESS\n",
      "--------------------------------------------------------------------\n",
      "Predictor arn:aws:forecast:us-east-1:889750940888:predictor/walmart_m5_prophet_algo_1 status : CREATE_IN_PROGRESS\n",
      "Predictor arn:aws:forecast:us-east-1:889750940888:predictor/walmart_m5_deeparplus_algo_1 status : CREATE_IN_PROGRESS\n",
      "--------------------------------------------------------------------\n",
      "Predictor arn:aws:forecast:us-east-1:889750940888:predictor/walmart_m5_prophet_algo_1 status : CREATE_IN_PROGRESS\n",
      "Predictor arn:aws:forecast:us-east-1:889750940888:predictor/walmart_m5_deeparplus_algo_1 status : CREATE_IN_PROGRESS\n",
      "--------------------------------------------------------------------\n",
      "Predictor arn:aws:forecast:us-east-1:889750940888:predictor/walmart_m5_prophet_algo_1 status : CREATE_IN_PROGRESS\n",
      "Predictor arn:aws:forecast:us-east-1:889750940888:predictor/walmart_m5_deeparplus_algo_1 status : CREATE_IN_PROGRESS\n",
      "--------------------------------------------------------------------\n",
      "Predictor arn:aws:forecast:us-east-1:889750940888:predictor/walmart_m5_prophet_algo_1 status : CREATE_IN_PROGRESS\n",
      "Predictor arn:aws:forecast:us-east-1:889750940888:predictor/walmart_m5_deeparplus_algo_1 status : CREATE_IN_PROGRESS\n",
      "--------------------------------------------------------------------\n",
      "Predictor arn:aws:forecast:us-east-1:889750940888:predictor/walmart_m5_prophet_algo_1 status : CREATE_IN_PROGRESS\n",
      "Predictor arn:aws:forecast:us-east-1:889750940888:predictor/walmart_m5_deeparplus_algo_1 status : CREATE_IN_PROGRESS\n",
      "--------------------------------------------------------------------\n",
      "Predictor arn:aws:forecast:us-east-1:889750940888:predictor/walmart_m5_prophet_algo_1 status : CREATE_IN_PROGRESS\n",
      "Predictor arn:aws:forecast:us-east-1:889750940888:predictor/walmart_m5_deeparplus_algo_1 status : CREATE_IN_PROGRESS\n",
      "--------------------------------------------------------------------\n",
      "Predictor arn:aws:forecast:us-east-1:889750940888:predictor/walmart_m5_prophet_algo_1 status : CREATE_IN_PROGRESS\n",
      "Predictor arn:aws:forecast:us-east-1:889750940888:predictor/walmart_m5_deeparplus_algo_1 status : CREATE_IN_PROGRESS\n",
      "--------------------------------------------------------------------\n"
     ]
    }
   ],
   "source": [
    "import time \n",
    "\n",
    "start_time = time.time()\n",
    "while True:\n",
    "    ProphetArn = prophet_create_predictor_response['PredictorArn']\n",
    "    DeepARPlusArn = deeparplus_create_predictor_response['PredictorArn']\n",
    "    \n",
    "    ProphetStatus = forecast.describe_predictor(PredictorArn = prophet_create_predictor_response['PredictorArn'])['Status']\n",
    "    DeepARPlusStatus = forecast.describe_predictor(PredictorArn = deeparplus_create_predictor_response['PredictorArn'])['Status']\n",
    "    \n",
    "    print(\"Predictor {} status : {}\".format(ProphetArn, ProphetStatus))\n",
    "    print(\"Predictor {} status : {}\".format(DeepARPlusArn, DeepARPlusStatus))\n",
    "    print(\"--------------------------------------------------------------------\")\n",
    "    \n",
    "    if ProphetStatus != 'ACTIVE' or DeepARPlusStatus != 'ACTIVE':\n",
    "        sleep(30)\n",
    "    else:\n",
    "        break\n",
    "print('작업 수행된 시간 : %f 초' % (time.time() - start_time))"
   ]
  },
  {
   "cell_type": "markdown",
   "metadata": {},
   "source": [
    "## 3d. Examining the Predictors\n",
    "- AWS Forecast에서 생성된 Predictor별 Metric을 확인한다.\n",
    "- 참고 : https://docs.aws.amazon.com/ko_kr/forecast/latest/dg/metrics.html"
   ]
  },
  {
   "cell_type": "markdown",
   "metadata": {},
   "source": [
    "# 4. Create Forecast (10분 정도 소요)\n",
    "- Predictor별 Forecast를 만든다.\n",
    "- 참고 : https://docs.aws.amazon.com/ko_kr/forecast/latest/dg/gs-console.html 의 \"3단계 - 예상 생성\"\n",
    "- ForecastTypes : The quantiles at which probabilistic forecasts are generated. You can currently specify up to 5 quantiles per forecast. Accepted values include 0.01 to 0.99 (increments of .01 only) and mean. The mean forecast is different from the median (0.50) when the distribution is not symmetric (for example, Beta and Negative Binomial). The default value is [\"0.1\", \"0.5\", \"0.9\"]."
   ]
  },
  {
   "cell_type": "markdown",
   "metadata": {},
   "source": [
    "## 4a. Create Prophet, DeepAR+ Forecast"
   ]
  },
  {
   "cell_type": "code",
   "execution_count": null,
   "metadata": {},
   "outputs": [],
   "source": [
    "deeparplus_forecastName= project+'_deepAR_algo_forecast'\n",
    "prophet_forecastname= project+'_prophet_algo_forecast'\n",
    "ForecastTypes=[\"0.1\", \"0.5\", \"0.9\", \"mean\"]"
   ]
  },
  {
   "cell_type": "markdown",
   "metadata": {},
   "source": [
    "**DeepAR+**"
   ]
  },
  {
   "cell_type": "code",
   "execution_count": null,
   "metadata": {},
   "outputs": [],
   "source": [
    "create_forecast_response=forecast.create_forecast(ForecastName=deeparplus_forecastName,\n",
    "                                                  ForecastTypes=ForecastTypes,\n",
    "                                                  PredictorArn=DeepARPlusArn\n",
    "                                                 )\n",
    "deeparplus_forecastArn = create_forecast_response['ForecastArn']"
   ]
  },
  {
   "cell_type": "code",
   "execution_count": null,
   "metadata": {},
   "outputs": [],
   "source": [
    "deeparplus_forecastArn"
   ]
  },
  {
   "cell_type": "markdown",
   "metadata": {},
   "source": [
    "**Prophet**"
   ]
  },
  {
   "cell_type": "code",
   "execution_count": null,
   "metadata": {},
   "outputs": [],
   "source": [
    "create_forecast_response=forecast.create_forecast(ForecastName=prophet_forecastname,\n",
    "                                                  ForecastTypes=ForecastTypes,\n",
    "                                                  PredictorArn = ProphetArn\n",
    "                                                 )\n",
    "prophet_forecastArn = create_forecast_response['ForecastArn']"
   ]
  },
  {
   "cell_type": "code",
   "execution_count": null,
   "metadata": {},
   "outputs": [],
   "source": [
    "prophet_forecastArn"
   ]
  },
  {
   "cell_type": "markdown",
   "metadata": {},
   "source": [
    "## 4b. Check Forecast Creation Status"
   ]
  },
  {
   "cell_type": "code",
   "execution_count": null,
   "metadata": {},
   "outputs": [],
   "source": [
    "import time \n",
    "\n",
    "start_time = time.time()\n",
    "while True:\n",
    "    deeparplus_forecast_status = forecast.describe_forecast(ForecastArn=deeparplus_forecastArn)['Status']\n",
    "    prophet_forecast_status = forecast.describe_forecast(ForecastArn=prophet_forecastArn)['Status']\n",
    "    \n",
    "    print(\"Predictor {} status : {}\".format(deeparplus_forecastArn, deeparplus_forecast_status))\n",
    "    print(\"Predictor {} status : {}\".format(prophet_forecastArn, prophet_forecast_status))\n",
    "    print(\"--------------------------------------------------------------------\")\n",
    "    \n",
    "    if deeparplus_forecast_status != 'ACTIVE' or prophet_forecast_status != 'ACTIVE':\n",
    "        sleep(30)\n",
    "    else:\n",
    "        break\n",
    "print('작업 수행된 시간 : %f 초' % (time.time() - start_time))"
   ]
  },
  {
   "cell_type": "markdown",
   "metadata": {},
   "source": [
    "## 4c. Get Forecast & Visualization\n",
    "Predictor별 Forecast를 생성한 후 id별 p10, p50, p90, mean 값을 확인할 수 있다."
   ]
  },
  {
   "cell_type": "code",
   "execution_count": null,
   "metadata": {},
   "outputs": [],
   "source": [
    "# 200개의 Sample item 중 top10\n",
    "sampled[[\"id\", \"sales_total\"]].head(10)"
   ]
  },
  {
   "cell_type": "code",
   "execution_count": null,
   "metadata": {},
   "outputs": [],
   "source": [
    "# 200개의 Sample item 중 worst10\n",
    "sampled[[\"id\", \"sales_total\"]].tail(10)"
   ]
  },
  {
   "cell_type": "code",
   "execution_count": null,
   "metadata": {},
   "outputs": [],
   "source": [
    "def get_forecast(id):\n",
    "    for forecastArn in [deeparplus_forecastArn, prophet_forecastArn]:\n",
    "        forecastResponse = forecast_query.query_forecast(\n",
    "                            ForecastArn=forecastArn,\n",
    "                            Filters={\"item_id\":id}\n",
    "                            )\n",
    "\n",
    "        mean = pd.DataFrame(forecastResponse['Forecast']['Predictions']['mean'])\n",
    "        mean.Timestamp = mean.Timestamp.apply(lambda x: datetime.strptime(x, \"%Y-%m-%dT%H:%M:%S\"))\n",
    "        mean.set_index(\"Timestamp\", inplace=True)\n",
    "        mean.rename(columns = {'Value' : 'mean'}, inplace = True)\n",
    "\n",
    "        p10 = pd.DataFrame(forecastResponse['Forecast']['Predictions']['p10'])\n",
    "        p10.Timestamp = p10.Timestamp.apply(lambda x: datetime.strptime(x, \"%Y-%m-%dT%H:%M:%S\"))\n",
    "        p10.set_index(\"Timestamp\", inplace=True)\n",
    "        p10.rename(columns = {'Value' : 'p10'}, inplace = True)\n",
    "\n",
    "        p50 = pd.DataFrame(forecastResponse['Forecast']['Predictions']['p50'])\n",
    "        p50.Timestamp = p50.Timestamp.apply(lambda x: datetime.strptime(x, \"%Y-%m-%dT%H:%M:%S\"))\n",
    "        p50.set_index(\"Timestamp\", inplace=True)\n",
    "        p50.rename(columns = {'Value' : 'p50'}, inplace = True)\n",
    "\n",
    "        p90 = pd.DataFrame(forecastResponse['Forecast']['Predictions']['p90'])\n",
    "        p90.Timestamp = p90.Timestamp.apply(lambda x: datetime.strptime(x, \"%Y-%m-%dT%H:%M:%S\"))\n",
    "        p90.set_index(\"Timestamp\", inplace=True)\n",
    "        p90.rename(columns = {'Value' : 'p90'}, inplace = True)\n",
    "\n",
    "        plot_start_ts = mean.index.min() - timedelta(days=0.5 * 365/12)\n",
    "        plot_end_ts   = mean.index.max() + timedelta(days=0.5 * 365/12)\n",
    "        plot_start_str = datetime.strptime(str(plot_start_ts), '%Y-%m-%d %H:%M:%S')\n",
    "        plot_end_str   = datetime.strptime(str(plot_end_ts), '%Y-%m-%d %H:%M:%S')\n",
    "        plot_start_date = str(plot_start_str.year) + \"-\" + str(plot_start_str.month) + \"-\" + str(plot_start_str.day)\n",
    "        plot_end_date   = str(plot_end_str.year) + \"-\" + str(plot_end_str.month) + \"-\" + str(plot_end_str.day)\n",
    "\n",
    "        observations = df_merged[df_merged[\"id\"] == id].loc[plot_start_date:plot_end_date].sales\n",
    "        \n",
    "        fig = plt.figure(figsize=(20, 5))\n",
    "\n",
    "        plt.title(\"Forecast for {}, Predictor : {}\".format(id, forecastArn))\n",
    "        plt.plot(observations, color='gray', linewidth=1, label=\"observation\")\n",
    "        plt.plot(p90, label='p90')\n",
    "        plt.plot(mean, label='mean')\n",
    "        plt.plot(p50, label='p50')\n",
    "        plt.plot(p10, label='p10')\n",
    "        plt.axvline(x=datetime(2015, 12, 25), color='r', linestyle='--', linewidth=2) # Adding Vertical line for Christmas\n",
    "        plt.legend()\n",
    "     \n",
    "    return"
   ]
  },
  {
   "cell_type": "markdown",
   "metadata": {},
   "source": [
    "### Sample중 Top5"
   ]
  },
  {
   "cell_type": "code",
   "execution_count": null,
   "metadata": {},
   "outputs": [],
   "source": [
    "sampled[[\"id\", \"sales_total\"]].head()"
   ]
  },
  {
   "cell_type": "code",
   "execution_count": null,
   "metadata": {},
   "outputs": [],
   "source": [
    "sampled.id.head(5)"
   ]
  },
  {
   "cell_type": "code",
   "execution_count": null,
   "metadata": {},
   "outputs": [],
   "source": [
    "for item in sampled.id.head(5):\n",
    "    get_forecast(item)"
   ]
  },
  {
   "cell_type": "markdown",
   "metadata": {},
   "source": [
    "### Sample중 Worst5"
   ]
  },
  {
   "cell_type": "code",
   "execution_count": null,
   "metadata": {},
   "outputs": [],
   "source": [
    "for item in sampled.id.tail(5):\n",
    "    get_forecast(item)"
   ]
  },
  {
   "cell_type": "markdown",
   "metadata": {},
   "source": [
    "# Discussion\n",
    "- Model Performanace를 높이기 위한 방법은?\n",
    "- Grouping (dept_id = FOODS_3 중 Best200) 방식은 적절했는지?\n",
    "- Related Time Series가 Target에 영향을 주는지?\n",
    "- Item Metadata의 각 Attribute는 Item을 충분히 설명하고 있는지?"
   ]
  },
  {
   "cell_type": "markdown",
   "metadata": {},
   "source": [
    "# Resource Termination\n",
    "- Delete Forecasts\n",
    "- Delete Predictors\n",
    "- Delete Dataset Import Jobs\n",
    "- Delete Datasets\n",
    "- Delete Dataset Group\n",
    "- Delete CloudFormation Stack\n",
    "- Delete S3 Bucket"
   ]
  },
  {
   "cell_type": "code",
   "execution_count": null,
   "metadata": {},
   "outputs": [],
   "source": []
  }
 ],
 "metadata": {
  "kernelspec": {
   "display_name": "conda_tensorflow_p36",
   "language": "python",
   "name": "conda_tensorflow_p36"
  },
  "language_info": {
   "codemirror_mode": {
    "name": "ipython",
    "version": 3
   },
   "file_extension": ".py",
   "mimetype": "text/x-python",
   "name": "python",
   "nbconvert_exporter": "python",
   "pygments_lexer": "ipython3",
   "version": "3.6.10"
  }
 },
 "nbformat": 4,
 "nbformat_minor": 4
}
